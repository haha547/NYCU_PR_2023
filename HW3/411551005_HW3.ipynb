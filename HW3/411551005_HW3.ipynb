{
 "cells": [
  {
   "cell_type": "code",
   "execution_count": 1,
   "id": "e980c3a3-963e-4c70-9d49-6cddba986104",
   "metadata": {},
   "outputs": [],
   "source": [
    "import copy\n",
    "import pandas as pd\n",
    "import numpy as np\n",
    "import matplotlib.pyplot as plt\n",
    "from sklearn.metrics import accuracy_score # Please note that this is the only sklearn function that can be utilized.\n",
    "np.random.seed(0)"
   ]
  },
  {
   "cell_type": "code",
   "execution_count": 2,
   "id": "c109a130-f74f-4672-a20f-cbac9f897ebb",
   "metadata": {},
   "outputs": [],
   "source": [
    "df_train = pd.DataFrame(pd.read_csv(\"./PR_HW3_Train.csv\"))\n",
    "df_val   = pd.DataFrame(pd.read_csv(\"./PR_HW3_Val.csv\"))\n",
    "df_test  = pd.DataFrame(pd.read_csv(\"./PR_HW3_Test.csv\"))\n",
    "\n",
    "X_train = df_train[['Feature1', 'Feature2', 'Feature3', 'Feature4', 'Feature5', 'Feature6', 'Feature7']].to_numpy()\n",
    "y_train = df_train[\"Target\"].to_numpy().astype(int)\n",
    "\n",
    "X_val = df_val[['Feature1', 'Feature2', 'Feature3', 'Feature4', 'Feature5', 'Feature6', 'Feature7']].to_numpy()\n",
    "y_val = df_val[\"Target\"].to_numpy()\n",
    "\n",
    "X_test = df_test[['Feature1', 'Feature2', 'Feature3', 'Feature4', 'Feature5', 'Feature6', 'Feature7']].to_numpy()\n",
    "y_test = df_test[\"Target\"].to_numpy()"
   ]
  },
  {
   "cell_type": "code",
   "execution_count": 3,
   "id": "2efb1572-d26a-4e84-a0cc-f63b57a0d073",
   "metadata": {},
   "outputs": [],
   "source": [
    "def entropy(examples):\n",
    "    unique, counts = np.unique(examples, return_counts=True)\n",
    "    probs = counts / len(examples)\n",
    "    return -np.sum(probs * np.log2(probs))\n",
    "\n",
    "def gini(examples):\n",
    "    unique, counts = np.unique(examples, return_counts=True)\n",
    "    probs = counts / len(examples)\n",
    "    return 1 - np.sum(probs**2)"
   ]
  },
  {
   "cell_type": "code",
   "execution_count": 4,
   "id": "d70e8fa1-1672-4621-a41a-a62f97d9e53a",
   "metadata": {},
   "outputs": [
    {
     "name": "stdout",
     "output_type": "stream",
     "text": [
      "['+' '+' '+' '+' '+' '-']: entropy = 0.6500224216483541\n",
      "['+' '+' '+' '-' '-' '-']: entropy = 1.0\n",
      "['+' '-' '-' '-' '-' '-']: entropy = 0.6500224216483541\n",
      "\n",
      "['+' '+' '+' '+' '+' '-']: gini index = 0.2777777777777777\n",
      "['+' '+' '+' '-' '-' '-']: gini index = 0.5\n",
      "['+' '-' '-' '-' '-' '-']: gini index = 0.2777777777777777\n",
      "\n"
     ]
    }
   ],
   "source": [
    "ex1 = np.array([\"+\", \"+\", \"+\", \"+\", \"+\", \"-\"])\n",
    "ex2 = np.array([\"+\", \"+\", \"+\", \"-\", \"-\", \"-\"])\n",
    "ex3 = np.array([\"+\" ,\"-\", \"-\", \"-\", \"-\", \"-\"])\n",
    "print(f\"{ex1}: entropy = {entropy(ex1)}\\n{ex2}: entropy = {entropy(ex2)}\\n{ex3}: entropy = {entropy(ex3)}\\n\")\n",
    "print(f\"{ex1}: gini index = {gini(ex1)}\\n{ex2}: gini index = {gini(ex2)}\\n{ex3}: gini index = {gini(ex3)}\\n\")"
   ]
  },
  {
   "cell_type": "code",
   "execution_count": 5,
   "id": "cca2f03d-6917-4046-ae9c-c735f3b7c842",
   "metadata": {},
   "outputs": [],
   "source": [
    "class ClassifyNode:\n",
    "    # ClassidyNode class contains child nodes, best threshold and best feature for splitting\n",
    "    \n",
    "    def __init__(self, feature=None, threshold=None, l_node=None, r_node=None, mark=None):\n",
    "        self.feature = feature # idx of feature for splitting\n",
    "        self.threshold = threshold # threshold value for splitting\n",
    "        self.l_node = l_node # left ClassifyNode object \n",
    "        self.r_node = r_node # right ClassifyNode object \n",
    "        self.mark = mark # if it is a leaf node, it gets a class mark \n",
    "    def is_leaf_node(self):\n",
    "        return self.mark is not None\n",
    "        \n",
    "class MyDecisionTreeClassifier:\n",
    "    \n",
    "    def __init__(self, criterion=\"gini\", min_samples_split=2, max_depth=\"inf\", n_feats=None, randomSet= True):\n",
    "            self.min_samples_split = min_samples_split\n",
    "            self.max_depth = max_depth\n",
    "            self.n_feats = n_feats\n",
    "            self.root = None\n",
    "            self.criterion = criterion\n",
    "            self.feature_counts = None\n",
    "            self.randomSet = randomSet\n",
    "        \n",
    "    def fit(self, X, y):\n",
    "        self.n_feats = X.shape[1] if not self.n_feats else min(self.n_feats, X.shape[1])\n",
    "        # avoid situation when n_feats > real number of features \n",
    "        self.root = self._build_node(X, y)\n",
    "        # The first node for splitting\n",
    "\n",
    "    def predict(self, X):\n",
    "        return np.array([self._traverse_tree(x, self.root) for x in X])\n",
    "        # see _traverse_tree function\n",
    "\n",
    "    def _traverse_tree(self, x, node):\n",
    "        if node.is_leaf_node(): # if current node is terminal then return class with biggest occurrence level\n",
    "            return node.mark\n",
    "        if x[node.feature] <= node.threshold: # chek feature in this node and compare node threshold with feature value in x \n",
    "            return self._traverse_tree(x, node.l_node)# send x to child node until it gets the leaf node\n",
    "        return self._traverse_tree(x, node.r_node)\n",
    "    \n",
    "    def _compute_gini(self, y):\n",
    "        _, counts = np.unique(y, return_counts=True)\n",
    "        proportions = counts / y.size\n",
    "        return 1 - np.sum(proportions**2)\n",
    "\n",
    "    def _compute_entropy(self, y):\n",
    "        _, counts = np.unique(y, return_counts=True)\n",
    "        proportions = counts / y.size\n",
    "        return -np.sum(proportions * np.log2(proportions))\n",
    "    \n",
    "    def _build_node(self, X, y, depth=0):\n",
    "        n_samples, n_features = X.shape # in arrays and Dataframes shapes are in format (n_samples, n_features)\n",
    "        n_labels = len(np.unique(y)) # array of unique classes\n",
    "        \n",
    "        # check stopping criteria (max_depth & min_samples_split)\n",
    "        if (self.max_depth is not None and depth >= self.max_depth) or n_labels == 1 or n_samples < self.min_samples_split:\n",
    "            leaf_mark = self._most_encountered_mark(y)\n",
    "            return ClassifyNode(mark=leaf_mark)\n",
    "        if self.randomSet:\n",
    "            feature_idxs = np.random.choice(n_features, self.n_feats, replace=False) # if we decided to choose a subset of features\n",
    "        else:\n",
    "            feature_idxs = np.arange(n_features)\n",
    "        best_feature, best_thresh = self._best_split(X, y, feature_idxs)# see _best_split()\n",
    "        \n",
    "        if self.feature_counts is None:\n",
    "            self.feature_counts = np.zeros(X.shape[1], dtype=int)\n",
    "        self.feature_counts[best_feature] += 1\n",
    "        \n",
    "        left_idxs, right_idxs = self._split(X[:, best_feature], best_thresh)# see _split()\n",
    "        left = self._build_node(X[left_idxs, :], y[left_idxs], depth+1)\n",
    "        right = self._build_node(X[right_idxs, :], y[right_idxs], depth+1)\n",
    "        # after we find best split, we give left data and right data to child nodes\n",
    "        \n",
    "        return ClassifyNode(best_feature, best_thresh, left, right)\n",
    "        \n",
    "    def _best_split(self, X, y, feature_idxs):\n",
    "        best_information_gain = -1\n",
    "        split_idx, split_thresh = None, None\n",
    "        for idx in feature_idxs: # for each feature\n",
    "            X_column=X[:, idx] # take all values in this features\n",
    "            thresholds = np.unique(X_column) # drop similar values\n",
    "            for threshold in thresholds: # for each unique value\n",
    "                gain = self._information_gain(y, X_column, threshold) # see _information_gain()\n",
    "                if gain > best_information_gain:\n",
    "                    best_information_gain = gain\n",
    "                    split_idx = idx\n",
    "                    split_thresh = threshold\n",
    "                # save information gain in case it better than previous\n",
    "                    \n",
    "        return split_idx, split_thresh\n",
    "    \n",
    "    def _information_gain(self, y, X_column, split_thresh):\n",
    "        if self.criterion == \"gini\":\n",
    "            parent_impurity = self._compute_gini(y) # use Gini impurity\n",
    "        elif self.criterion == \"entropy\":\n",
    "            parent_impurity = self._compute_entropy(y) # use entropy\n",
    "        else:\n",
    "            raise ValueError(\"Invalid criterion, choose either 'gini' or 'entropy'.\")\n",
    "        left_idxs, right_idxs = self._split(X_column, split_thresh) # see _split()\n",
    "        if len(left_idxs) == 0 or len(right_idxs) == 0: # check if we splitted nothing\n",
    "            return 0\n",
    "\n",
    "        n = len(y)\n",
    "        n_l, n_r = len(left_idxs), len(right_idxs)\n",
    "        # number of samples in left and right nodes\n",
    "        if self.criterion == \"gini\":\n",
    "            impurity_l, impurity_r = self._compute_gini(y[left_idxs]), self._compute_gini(y[right_idxs])\n",
    "        elif self.criterion == \"entropy\":\n",
    "            impurity_l, impurity_r = self._compute_entropy(y[left_idxs]), self._compute_entropy(y[right_idxs])\n",
    "        \n",
    "        child_impurity = (n_l/n)*impurity_l + (n_r/n)*impurity_r # weighted sum of left and right child\n",
    "        info_gain = parent_impurity - child_impurity # finally calculated information gain \n",
    "        \n",
    "        return info_gain\n",
    "    \n",
    "    \n",
    "    def _split(self, X_column, split_thresh):\n",
    "        left_idxs = np.argwhere(X_column <= split_thresh).flatten()\n",
    "        right_idxs = np.argwhere(X_column > split_thresh).flatten()\n",
    "        \n",
    "        return left_idxs, right_idxs\n",
    "\n",
    "    def _most_encountered_mark(self, y):\n",
    "        most_encountered = np.argmax(np.bincount(y))\n",
    "        return most_encountered\n",
    "    \n",
    "    def get_feature_importance(self):\n",
    "        if self.feature_counts is None:\n",
    "            raise ValueError(\"Feature importance is not available before fitting the model.\")\n",
    "        total_splits = np.sum(self.feature_counts)\n",
    "        return self.feature_counts / total_splits\n",
    "\n",
    "    def plot_feature_importance(self, feature_names=None):\n",
    "        importance = self.get_feature_importance()\n",
    "\n",
    "        if feature_names is None:\n",
    "            feature_names = [f\"Feature {i+1}\" for i in range(importance.size)]\n",
    "        idx = np.argsort(importance)\n",
    "        feature_names = np.array(feature_names)\n",
    "        plt.barh(feature_names[idx], importance[idx])\n",
    "        plt.xlabel(\"Importance\")\n",
    "        plt.ylabel(\"Features\")\n",
    "        plt.title(\"Feature Importance\")\n",
    "        plt.show()"
   ]
  },
  {
   "cell_type": "code",
   "execution_count": 6,
   "id": "ff285308-adcd-455d-af2d-bf1057d344dd",
   "metadata": {},
   "outputs": [],
   "source": [
    "class RandomForestClassifier:\n",
    "    def __init__(self, n_estimators=100, max_features=None, bootstrap=True, criterion=\"gini\", max_depth = None, randomSet = False):\n",
    "        self.n_estimators = n_estimators\n",
    "        self.max_features = max_features\n",
    "        self.bootstrap = bootstrap\n",
    "        self.criterion = criterion\n",
    "        self.max_depth = max_depth\n",
    "        self.trees = []\n",
    "        self.randomSet = randomSet\n",
    "\n",
    "    def fit(self, X, y):\n",
    "        self.trees = []\n",
    "        for _ in range(self.n_estimators):\n",
    "            tree = MyDecisionTreeClassifier(criterion= self.criterion, max_depth= self.max_depth, n_feats= self.max_features, randomSet= self.randomSet)\n",
    "            if self.bootstrap:\n",
    "                X_sample, y_sample = self._bootstrap_sample(X, y)\n",
    "            else:\n",
    "                X_sample, y_sample = X, y\n",
    "            tree.fit(X_sample, y_sample)\n",
    "            self.trees.append(tree)\n",
    "\n",
    "    def _bootstrap_sample(self, X, y):\n",
    "        indices = np.random.choice(X.shape[0], size=int(X.shape[0]), replace=True)\n",
    "        return X[indices], y[indices]\n",
    "\n",
    "    def predict(self, X):\n",
    "        tree_predictions = np.array([tree.predict(X) for tree in self.trees])\n",
    "        return np.apply_along_axis(lambda x: np.bincount(x).argmax(), axis=0, arr=tree_predictions)"
   ]
  },
  {
   "cell_type": "code",
   "execution_count": 7,
   "id": "13096dfe-e7d8-4505-b483-dc8e16306cbc",
   "metadata": {},
   "outputs": [
    {
     "name": "stdout",
     "output_type": "stream",
     "text": [
      "Q2-1 max_depth= 3: 0.73\n",
      "Q2-2 max_depth= 10: 0.86\n",
      "Q3-1 criterion= gini: 0.73\n",
      "Q3-2 criterion= entropy: 0.77\n"
     ]
    }
   ],
   "source": [
    "Tree = MyDecisionTreeClassifier(criterion= \"gini\", max_depth=3, n_feats= None)\n",
    "Tree.fit(X_train, y_train)\n",
    "acc = accuracy_score(y_val, Tree.predict(X_val))\n",
    "print(f'Q2-1 max_depth= 3: {acc:.2f}')\n",
    "\n",
    "Tree = MyDecisionTreeClassifier(criterion= \"gini\", max_depth=10, n_feats= None)\n",
    "Tree.fit(X_train, y_train)\n",
    "acc = accuracy_score(y_val, Tree.predict(X_val))\n",
    "print(f'Q2-2 max_depth= 10: {acc:.2f}')\n",
    "\n",
    "Tree = MyDecisionTreeClassifier(criterion= \"gini\", max_depth=3, n_feats= None)\n",
    "Tree.fit(X_train, y_train)\n",
    "acc = accuracy_score(y_val, Tree.predict(X_val))\n",
    "print(f'Q3-1 criterion= gini: {acc:.2f}')\n",
    "\n",
    "Tree = MyDecisionTreeClassifier(criterion= \"entropy\", max_depth=3, n_feats= None)\n",
    "Tree.fit(X_train, y_train)\n",
    "acc = accuracy_score(y_val, Tree.predict(X_val))\n",
    "print(f'Q3-2 criterion= entropy: {acc:.2f}')\n",
    "\n",
    "# For Q2-1, validation accuracy should be higher than or equal to 0.73\n",
    "# For Q2-2, validation accuracy should be higher than or equal to 0.85\n",
    "# For Q3-1, validation accuracy should be higher than or equal to 0.73\n",
    "# For Q3-2, validation accuracy should be higher than or equal to 0.77"
   ]
  },
  {
   "cell_type": "code",
   "execution_count": 8,
   "id": "cf552c2a-3398-4cfe-a337-ceeb8b7a37d3",
   "metadata": {},
   "outputs": [
    {
     "data": {
      "image/png": "[encoded data removed]",
      "text/plain": [
       "<Figure size 640x480 with 1 Axes>"
      ]
     },
     "metadata": {},
     "output_type": "display_data"
    }
   ],
   "source": [
    "np.random.seed(0)\n",
    "Tree = MyDecisionTreeClassifier(criterion= \"gini\", max_depth=10, n_feats=None)\n",
    "Tree.fit(X_train, y_train)\n",
    "acc = accuracy_score(y_val, Tree.predict(X_val))\n",
    "Tree.plot_feature_importance()"
   ]
  },
  {
   "cell_type": "code",
   "execution_count": 9,
   "id": "6122e1c2-c3b6-4cdc-a13a-90720e0805bf",
   "metadata": {},
   "outputs": [
    {
     "name": "stdout",
     "output_type": "stream",
     "text": [
      "Q5-1 n_estimators=10: 0.88\n"
     ]
    }
   ],
   "source": [
    "np.random.seed(1)\n",
    "rf_estimators10 = RandomForestClassifier(n_estimators=10, max_features=int(np.sqrt(X_train.shape[1])), bootstrap=True\n",
    "                                         , criterion='gini', max_depth=None)\n",
    "rf_estimators10.fit(X_train, y_train)\n",
    "acc = accuracy_score(y_val, rf_estimators10.predict(X_val))\n",
    "print(f'Q5-1 n_estimators=10: {acc:.2f}')\n",
    "# For Q5-1, validation accuracy should be higher than or equal to 0.88"
   ]
  },
  {
   "cell_type": "code",
   "execution_count": 10,
   "id": "1ab76757-7281-40b8-9c15-bf752925601f",
   "metadata": {},
   "outputs": [
    {
     "name": "stdout",
     "output_type": "stream",
     "text": [
      "Q5-2 n_estimators=50: 0.89\n"
     ]
    }
   ],
   "source": [
    "np.random.seed(1)\n",
    "rf_estimators10 = RandomForestClassifier(n_estimators=50, max_features=int(np.sqrt(X_train.shape[1])), bootstrap=True\n",
    "                                         , criterion='gini', max_depth=None)\n",
    "rf_estimators10.fit(X_train, y_train)\n",
    "acc = accuracy_score(y_val, rf_estimators10.predict(X_val))\n",
    "print(f'Q5-2 n_estimators=50: {acc:.2f}')\n",
    "# For Q5-2, validation accuracy should be higher than or equal to 0.89"
   ]
  },
  {
   "cell_type": "code",
   "execution_count": 11,
   "id": "47b30a23-57de-4a10-aaa4-109387cb0453",
   "metadata": {},
   "outputs": [
    {
     "name": "stdout",
     "output_type": "stream",
     "text": [
      "Q6-1 max_features= sqrt: 0.88\n"
     ]
    }
   ],
   "source": [
    "np.random.seed(0)\n",
    "rf_estimators10 = RandomForestClassifier(n_estimators=10, max_features=int(np.sqrt(X_train.shape[1])), bootstrap=True\n",
    "                                         , criterion='gini', max_depth=None)\n",
    "rf_estimators10.fit(X_train, y_train)\n",
    "acc = accuracy_score(y_val, rf_estimators10.predict(X_val))\n",
    "print(f'Q6-1 max_features= sqrt: {acc:.2f}')\n",
    "# For Q6-1, validation accuracy should be higher than or equal to 0.88"
   ]
  },
  {
   "cell_type": "code",
   "execution_count": 12,
   "id": "96830bdd-14ab-4ee9-8795-872efabd2c52",
   "metadata": {},
   "outputs": [
    {
     "name": "stdout",
     "output_type": "stream",
     "text": [
      "Q6-2 max_features= None: 0.88\n"
     ]
    }
   ],
   "source": [
    "np.random.seed(0)\n",
    "rf_estimators10 = RandomForestClassifier(n_estimators=10, max_features=None, bootstrap=True, criterion='gini', max_depth=None)\n",
    "rf_estimators10.fit(X_train, y_train)\n",
    "acc = accuracy_score(y_val, rf_estimators10.predict(X_val))\n",
    "print(f'Q6-2 max_features= None: {acc:.2f}')\n",
    "# For Q7-2, validation accuracy should be higher than or equal to 0.86"
   ]
  },
  {
   "cell_type": "code",
   "execution_count": 13,
   "id": "47a3a539-3cd5-4468-bc4b-a7cf60f0a05a",
   "metadata": {},
   "outputs": [
    {
     "name": "stdout",
     "output_type": "stream",
     "text": [
      "Q7 n_estimators= 80: 0.9\n"
     ]
    }
   ],
   "source": [
    "np.random.seed(2)\n",
    "rf_estimators80 = RandomForestClassifier(n_estimators=80, max_features= 3, bootstrap=True, criterion='gini', max_depth=None, randomSet = True)\n",
    "rf_estimators80.fit(X_train, y_train)\n",
    "acc = accuracy_score(y_val, rf_estimators80.predict(X_val))\n",
    "print(f'Q7 n_estimators= 80: {acc}')"
   ]
  },
  {
   "cell_type": "code",
   "execution_count": 14,
   "id": "15f739e9-00db-49f6-998d-48eb2770cdb1",
   "metadata": {},
   "outputs": [],
   "source": [
    "df_test = pd.DataFrame(pd.read_csv(\"./PR_HW3_Test.csv\"))\n",
    "test_pred = rf_estimators80.predict(X_test)\n",
    "df_test[\"Target\"] = test_pred\n",
    "df_test.to_csv(\"411551005_prediction.csv\")"
   ]
  }
 ],
 "metadata": {
  "kernelspec": {
   "display_name": "Python 3 (ipykernel)",
   "language": "python",
   "name": "python3"
  },
  "language_info": {
   "codemirror_mode": {
    "name": "ipython",
    "version": 3
   },
   "file_extension": ".py",
   "mimetype": "text/x-python",
   "name": "python",
   "nbconvert_exporter": "python",
   "pygments_lexer": "ipython3",
   "version": "3.8.16"
  }
 },
 "nbformat": 4,
 "nbformat_minor": 5
}
