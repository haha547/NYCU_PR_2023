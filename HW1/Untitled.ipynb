{
 "cells": [
  {
   "cell_type": "code",
   "execution_count": 1,
   "id": "07a11a45-4ed1-4ce8-8dde-3bda805d753f",
   "metadata": {},
   "outputs": [],
   "source": [
    "import numpy as np\n",
    "import pandas as pd\n",
    "import matplotlib.pyplot as plt"
   ]
  },
  {
   "cell_type": "code",
   "execution_count": 16,
   "id": "101280cd-0838-4b66-94cf-07fdc2bbefff",
   "metadata": {},
   "outputs": [],
   "source": [
    "class LinearRegression:\n",
    "    \n",
    "    def __init__(self, lr, epochs , tol):\n",
    "        \n",
    "        self.epoch = []\n",
    "        self.train_loss = []\n",
    "        self.val_loss = []\n",
    "        self.weights = None\n",
    "        self.train_weight = []\n",
    "        self.lr = lr\n",
    "        self.epochs = epochs\n",
    "        self.tol = tol\n",
    "        \n",
    "    def fit(self, X, y, x_val, y_val, lr=0.001, epochs=100, batch_size=None, tol = 1.0E-05):\n",
    "        \n",
    "        n = X.shape[0] # number of data\n",
    "        m = X.shape[1] # number of feature\n",
    "        X = np.hstack((X, np.ones((n, 1))))\n",
    "        x_val = np.hstack((x_val, np.ones((x_val.shape[0], 1))))\n",
    "        \n",
    "        #randomize the weights\n",
    "        self.weights = np.random.randn(X.shape[1])\n",
    "        \n",
    "        for epoch in range(self.epochs):\n",
    "            \n",
    "            if batch_size is not None:\n",
    "                for batch in range(len(X)//batch_size):\n",
    "                    \n",
    "                    X_batch = X[batch*batch_size:(batch+1)*batch_size]\n",
    "                    y_batch = y[batch*batch_size:(batch+1)*batch_size]\n",
    "                    y_pred = np.dot(X_batch, self.weights)\n",
    "                    grad = np.dot(X_batch.T, y_pred-y_batch) / len(X_batch)\n",
    "                    self.weights -= self.lr * grad\n",
    "            else:\n",
    "                y_pred = np.dot(X, self.weights)\n",
    "                grad = np.dot(X.T, y_pred-y) / len(X)\n",
    "                self.weights -= self.lr * grad\n",
    "            \n",
    "            self.epoch.append(epoch)\n",
    "            self.train_loss.append(self.get_loss(X, y))\n",
    "            self.train_weight.append(self.weights)\n",
    "            self.val_loss.append(self.get_loss(x_val, y_val))\n",
    "            '''\n",
    "            if epoch % 100000 == 0:\n",
    "                val_loss = self.get_loss(x_val, y_val)\n",
    "                print(f'No. {epoch} Step, loss = {self.train_loss[-1]:.2e}, val_loss = {val_loss:.2e}')\n",
    "                \n",
    "                print(self.weights[-1])\n",
    "                print(self.weights[:-1])\n",
    "            '''\n",
    "            if epoch > 3 and abs(self.train_loss[-1] - self.train_loss[-2]) < self.tol:\n",
    "                print(f'Stop in {epoch} steps')\n",
    "                break\n",
    "        \n",
    "\n",
    "    def get_loss(self, X, y):\n",
    "        y_pred = np.dot(X, self.weights)\n",
    "        return np.mean((y_pred - y)**2)\n",
    "\n",
    "    def predict(self, X):\n",
    "        X = np.hstack((X, np.ones((X.shape[0], 1))))\n",
    "        return np.dot(X, self.weights)\n",
    "                \n",
    "    def evaluate(self, X, y):\n",
    "        y_pred = self.predict(X)\n",
    "        return np.mean((y_pred - y)**2)\n",
    "        \n",
    "    def plot_curve(self):\n",
    "        plt.plot(self.epoch, self.train_loss)\n",
    "        plt.xlabel('Epoch')\n",
    "        plt.ylabel('Mean Squared Error Loss')\n",
    "        plt.title('Training Curve')\n",
    "        plt.show()\n"
   ]
  },
  {
   "cell_type": "markdown",
   "id": "ca609f7c-a162-45af-92e2-5b652c7cb510",
   "metadata": {},
   "source": [
    "load data and mapping\n",
    "="
   ]
  },
  {
   "cell_type": "code",
   "execution_count": 3,
   "id": "a56d19e9-6bb4-4326-9f00-72b8d6b34d83",
   "metadata": {},
   "outputs": [],
   "source": [
    "df_train = pd.DataFrame(pd.read_csv(\"./regression_train.csv\"))\n",
    "df_val   = pd.DataFrame(pd.read_csv(\"./regression_val.csv\"))\n",
    "df_test  = pd.DataFrame(pd.read_csv(\"./regression_test.csv\"))\n",
    "\n",
    "smoker_map = {\"no\" : 0, \"yes\" : 1}\n",
    "sex_map = {\"female\" : 0, \"male\" : 1}\n",
    "region_map = {\"northeast\" : 0,\n",
    "              \"northwest\" : 1,\n",
    "              \"southeast\" : 2,\n",
    "              \"southwest\" : 3 }\n",
    "\n",
    "df_train[\"sex\"] = df_train[\"sex\"].map(sex_map)\n",
    "df_train[\"smoker\"] = df_train[\"smoker\"].map(smoker_map)\n",
    "df_train[\"region\"] = df_train[\"region\"].map(region_map)\n",
    "\n",
    "df_val[\"sex\"] = df_val[\"sex\"].map(sex_map)\n",
    "df_val[\"smoker\"] = df_val[\"smoker\"].map(smoker_map)\n",
    "df_val[\"region\"] = df_val[\"region\"].map(region_map)\n",
    "\n",
    "df_test[\"sex\"] = df_test[\"sex\"].map(sex_map)\n",
    "df_test[\"smoker\"] = df_test[\"smoker\"].map(smoker_map)\n",
    "df_test[\"region\"] = df_test[\"region\"].map(region_map)"
   ]
  },
  {
   "cell_type": "markdown",
   "id": "55e71af4-864e-4b2b-b605-2aa79fac5667",
   "metadata": {},
   "source": [
    "For Single Feature regression\n",
    "="
   ]
  },
  {
   "cell_type": "code",
   "execution_count": 4,
   "id": "810a514b-18d4-499e-b7b1-8a5709e29a73",
   "metadata": {},
   "outputs": [],
   "source": [
    "x_train = df_train.drop(['charges'], axis=1)\n",
    "y_train = df_train['charges'].to_numpy()\n",
    "x_train = x_train[['bmi']].to_numpy()\n",
    "\n",
    "x_val = df_val.drop(['charges'], axis=1)\n",
    "y_val = df_val['charges'].to_numpy()\n",
    "x_val = x_val[['bmi']].to_numpy()\n",
    "\n",
    "x_test = df_test.drop(['charges'], axis=1)\n",
    "x_test = x_test[['bmi']].to_numpy()"
   ]
  },
  {
   "cell_type": "code",
   "execution_count": 5,
   "id": "7017877c-8209-4bf9-8f6e-2d160043431e",
   "metadata": {},
   "outputs": [
    {
     "name": "stdout",
     "output_type": "stream",
     "text": [
      "Intercepts 1382.5127641092254\n",
      "weights =  [380.13540621]\n"
     ]
    }
   ],
   "source": [
    "Single_Feature = LinearRegression(lr= 1.0E-3, epochs= 300000, tol = 0)\n",
    "Single_Feature.fit(x_train, y_train, x_val, y_val)\n",
    "print(f'Intercepts {Single_Feature.weights[-1]}')\n",
    "print(f'weights =  {Single_Feature.weights[:-1]}')"
   ]
  },
  {
   "cell_type": "code",
   "execution_count": 6,
   "id": "f5569e6c-c308-479d-a08c-26815b4e3855",
   "metadata": {},
   "outputs": [
    {
     "name": "stdout",
     "output_type": "stream",
     "text": [
      "training loss: 1.40e+08\n",
      "validation loss: 1.37e+08\n"
     ]
    }
   ],
   "source": [
    "print('training loss: {:.2e}'.format(Single_Feature.train_loss[-1]))\n",
    "print('validation loss: {:.2e}'.format(Single_Feature.val_loss[-1]))"
   ]
  },
  {
   "cell_type": "code",
   "execution_count": 7,
   "id": "277f9029-19ac-4c31-a859-04ff3979b408",
   "metadata": {},
   "outputs": [],
   "source": [
    "test_pred = Single_Feature.predict(x_test)"
   ]
  },
  {
   "cell_type": "markdown",
   "id": "27e6ed4b-5b35-4b6b-8c86-2db2ca797b96",
   "metadata": {},
   "source": [
    "For Multiple Features regression\n",
    "="
   ]
  },
  {
   "cell_type": "code",
   "execution_count": 8,
   "id": "31bc46f8-f606-44ca-a9d7-e0e9d19db68e",
   "metadata": {},
   "outputs": [],
   "source": [
    "x_train = df_train.drop(['charges'], axis=1).to_numpy()\n",
    "y_train = df_train['charges'].to_numpy()\n",
    "\n",
    "x_val = df_val.drop(['charges'], axis=1).to_numpy()\n",
    "y_val = df_val['charges'].to_numpy()\n",
    "\n",
    "x_test = df_test.drop(['charges'], axis=1).to_numpy()"
   ]
  },
  {
   "cell_type": "code",
   "execution_count": 9,
   "id": "5d88729e-11f2-4a95-96d4-cbc3bb105687",
   "metadata": {},
   "outputs": [
    {
     "name": "stdout",
     "output_type": "stream",
     "text": [
      "Intercepts -11857.04933116656\n",
      "weights =  [  259.85082668  -383.5457614    333.33233366   442.55734611\n",
      " 24032.22066281  -416.01454027]\n",
      "training loss: 3.47e+07\n",
      "validation loss: 4.20e+07\n"
     ]
    }
   ],
   "source": [
    "Multi_Feature = LinearRegression(lr = 5.0E-4, epochs= 1000000, tol = 0)\n",
    "Multi_Feature.fit(x_train, y_train, x_val, y_val)\n",
    "\n",
    "print(f'Intercepts {Multi_Feature.weights[-1]}')\n",
    "print(f'weights =  {Multi_Feature.weights[:-1]}')\n",
    "print('training loss: {:.2e}'.format(Multi_Feature.train_loss[-1]))\n",
    "print('validation loss: {:.2e}'.format(Multi_Feature.val_loss[-1]))\n",
    "test_pred = Multi_Feature.predict(x_test)"
   ]
  },
  {
   "cell_type": "markdown",
   "id": "50682c53-5f52-4a08-9f47-55e895494e39",
   "metadata": {},
   "source": [
    "My Model\n",
    "="
   ]
  },
  {
   "cell_type": "code",
   "execution_count": 10,
   "id": "ea5f6ae6-6160-4578-8d59-19c509743e13",
   "metadata": {},
   "outputs": [],
   "source": [
    "df_train = pd.DataFrame(pd.read_csv(\"./regression_train.csv\"))\n",
    "df_val   = pd.DataFrame(pd.read_csv(\"./regression_val.csv\"))\n",
    "df_test  = pd.DataFrame(pd.read_csv(\"./regression_test.csv\"))\n",
    "\n",
    "smoker_map = {\"no\" : 0, \"yes\" : 1}\n",
    "sex_map = {\"female\" : 0, \"male\" : 1}\n",
    "\n",
    "df_train[\"sex\"] = df_train[\"sex\"].map(sex_map)\n",
    "df_train[\"smoker\"] = df_train[\"smoker\"].map(smoker_map)\n",
    "\n",
    "df_val[\"sex\"] = df_val[\"sex\"].map(sex_map)\n",
    "df_val[\"smoker\"] = df_val[\"smoker\"].map(smoker_map)\n",
    "\n",
    "df_test[\"sex\"] = df_test[\"sex\"].map(sex_map)\n",
    "df_test[\"smoker\"] = df_test[\"smoker\"].map(smoker_map)"
   ]
  },
  {
   "cell_type": "markdown",
   "id": "272558ea-5952-4c69-8544-1abab926e310",
   "metadata": {},
   "source": [
    "One Hot Encodeing and To numpy\n",
    "="
   ]
  },
  {
   "cell_type": "code",
   "execution_count": 11,
   "id": "c88cf598-506e-48df-925f-0b95cf8dbb4f",
   "metadata": {},
   "outputs": [
    {
     "data": {
      "text/plain": [
       "'\\n# min max normalization (charges)\\ncharges_min = df_train[\"charges\"].min()\\ncharges_max = df_train[\"charges\"].max()\\n\\ndf_train[\"charges\"] = (df_train[\"charges\"] - charges_min) / (charges_max - charges_min)\\ndf_val[\"charges\"] = (df_val[\"charges\"] - charges_min) / (charges_max - charges_min)\\ndf_test[\"charges\"] = (df_test[\"charges\"] - charges_min) / (charges_max - charges_min)\\n'"
      ]
     },
     "execution_count": 11,
     "metadata": {},
     "output_type": "execute_result"
    }
   ],
   "source": [
    "df_train = pd.get_dummies(df_train, columns=[\"region\"])\n",
    "df_val = pd.get_dummies(df_val, columns=[\"region\"])\n",
    "df_test = pd.get_dummies(df_test, columns=[\"region\"])\n",
    "\n",
    "# min max normalization (age)\n",
    "# for all data min is 18 max is 64\n",
    "df_train[\"age\"] = (df_train[\"age\"] - 18) / 46\n",
    "df_val[\"age\"] = (df_val[\"age\"] - 18) / 46\n",
    "df_test[\"age\"] = (df_test[\"age\"] - 18) / 46\n",
    "\n",
    "# min max normalization (bmi)\n",
    "bmi_min = df_train[\"bmi\"].min()\n",
    "bmi_max = df_train[\"bmi\"].max()\n",
    "\n",
    "df_train[\"bmi\"] = (df_train[\"bmi\"] - bmi_min) / (bmi_max - bmi_min)\n",
    "df_val[\"bmi\"] = (df_val[\"bmi\"] - bmi_min) / (bmi_max - bmi_min)\n",
    "df_test[\"bmi\"] = (df_test[\"bmi\"] - bmi_min) / (bmi_max - bmi_min)\n",
    "'''\n",
    "# min max normalization (charges)\n",
    "charges_min = df_train[\"charges\"].min()\n",
    "charges_max = df_train[\"charges\"].max()\n",
    "\n",
    "df_train[\"charges\"] = (df_train[\"charges\"] - charges_min) / (charges_max - charges_min)\n",
    "df_val[\"charges\"] = (df_val[\"charges\"] - charges_min) / (charges_max - charges_min)\n",
    "df_test[\"charges\"] = (df_test[\"charges\"] - charges_min) / (charges_max - charges_min)\n",
    "'''"
   ]
  },
  {
   "cell_type": "code",
   "execution_count": 12,
   "id": "5404838b-63bd-4e2e-9467-ac24966e104d",
   "metadata": {},
   "outputs": [],
   "source": [
    "\n",
    "x_train = df_train.drop(['charges'], axis=1).to_numpy()\n",
    "y_train = df_train['charges'].to_numpy()\n",
    "\n",
    "x_val = df_val.drop(['charges'], axis=1).to_numpy()\n",
    "y_val = df_val['charges'].to_numpy()\n",
    "\n",
    "x_test = df_test.drop(['charges'], axis=1).to_numpy()\n"
   ]
  },
  {
   "cell_type": "code",
   "execution_count": 13,
   "id": "541a0dff-21e1-4f94-8874-eec7868aa93e",
   "metadata": {},
   "outputs": [
    {
     "name": "stdout",
     "output_type": "stream",
     "text": [
      "Intercepts -2045.3873825040034\n",
      "weights =  [11909.78031819  -399.73821501 11724.13696648   437.64932999\n",
      " 24068.28936178   219.36931214  -297.17589767 -1034.30767236\n",
      "  -929.11629117]\n",
      "training loss: 3.47e+07\n",
      "validation loss: 4.21e+07\n"
     ]
    }
   ],
   "source": [
    "MyModel = LinearRegression(lr = 5.0E-4, epochs= 1000000, tol = 0)\n",
    "MyModel.fit(x_train, y_train, x_val, y_val)\n",
    "print(f'Intercepts {MyModel.weights[-1]}')\n",
    "print(f'weights =  {MyModel.weights[:-1]}')\n",
    "print('training loss: {:.2e}'.format(MyModel.train_loss[-1]))\n",
    "print('validation loss: {:.2e}'.format(MyModel.val_loss[-1]))"
   ]
  },
  {
   "cell_type": "code",
   "execution_count": null,
   "id": "7363083f-eb4c-4b20-acad-5d61c96de7b4",
   "metadata": {},
   "outputs": [],
   "source": []
  },
  {
   "cell_type": "code",
   "execution_count": 14,
   "id": "b6799240-1c41-463a-9e9f-000400c9951b",
   "metadata": {},
   "outputs": [],
   "source": [
    "import numpy as np\n",
    "from sklearn.linear_model import LinearRegression\n",
    "from sklearn.preprocessing import PolynomialFeatures\n",
    "\n",
    "poly = PolynomialFeatures(degree=2)\n",
    "X_poly = poly.fit_transform(x_train)\n",
    "X_poly_val = poly.fit_transform(x_val)\n",
    "\n",
    "reg = LinearRegression().fit(X_poly, y_train)"
   ]
  },
  {
   "cell_type": "code",
   "execution_count": null,
   "id": "5e3ef344-178c-444f-bc34-d202f71359b6",
   "metadata": {},
   "outputs": [],
   "source": [
    "Poly_model = LinearRegression(lr = 5.0E-4, epochs= 1000000, tol = 0)\n",
    "Poly_model.fit(X_poly, y_train, X_poly_val, y_val)"
   ]
  },
  {
   "cell_type": "code",
   "execution_count": null,
   "id": "1e782925-5dba-4090-8e1a-aca33e917279",
   "metadata": {},
   "outputs": [],
   "source": [
    "import numpy as np\n",
    "\n",
    "def polynomial_features(X, degree):\n",
    "    n_samples, n_features = X.shape\n",
    "    output = np.ones((n_samples, 1))\n",
    "\n",
    "    for d in range(1, degree+1):\n",
    "        for i in range(n_features):\n",
    "            output = np.hstack((output, np.power(X[:, i:i+1], d)))\n",
    "\n",
    "    \n",
    "    return output\n",
    "\n",
    "x = np.arange(1,3).reshape(1,2)\n",
    "print(x)\n",
    "print(PolynomialFeatures(degree=2, interaction_only=True).fit_transform(x))\n",
    "print(PolynomialFeatures(degree=2) .fit_transform(x))"
   ]
  },
  {
   "cell_type": "code",
   "execution_count": null,
   "id": "7304e9fc-d2a4-4fc8-8748-70d8ce4e4b3c",
   "metadata": {},
   "outputs": [],
   "source": []
  },
  {
   "cell_type": "code",
   "execution_count": null,
   "id": "90ba8305-170f-4354-95c4-d3ff954b66cc",
   "metadata": {},
   "outputs": [],
   "source": []
  }
 ],
 "metadata": {
  "kernelspec": {
   "display_name": "Python 3 (ipykernel)",
   "language": "python",
   "name": "python3"
  },
  "language_info": {
   "codemirror_mode": {
    "name": "ipython",
    "version": 3
   },
   "file_extension": ".py",
   "mimetype": "text/x-python",
   "name": "python",
   "nbconvert_exporter": "python",
   "pygments_lexer": "ipython3",
   "version": "3.8.16"
  }
 },
 "nbformat": 4,
 "nbformat_minor": 5
}
