{
 "cells": [
  {
   "cell_type": "code",
   "execution_count": 1,
   "id": "2bd7573d-8238-4855-b6c5-962b4eaed37f",
   "metadata": {},
   "outputs": [],
   "source": [
    "import numpy as np\n",
    "from sklearn.preprocessing import PolynomialFeatures\n",
    "from sklearn.linear_model import LinearRegression"
   ]
  },
  {
   "cell_type": "code",
   "execution_count": 2,
   "id": "c79fae20-a543-4b50-b1ea-3ce508c270d5",
   "metadata": {},
   "outputs": [],
   "source": [
    "def comb(n):\n",
    "    a = np.arange(n)\n",
    "\n",
    "    # 通过meshgrid生成二维矩阵，每一行都是一维数组a的一个副本\n",
    "    rows, cols = np.meshgrid(a, a)\n",
    "\n",
    "    # 使用布尔索引来筛选组合，只保留满足要求的\n",
    "    mask = np.logical_and(rows < cols, cols < n)\n",
    "    comb = np.column_stack((rows[mask], cols[mask]))\n",
    "    return len(comb)"
   ]
  },
  {
   "cell_type": "markdown",
   "id": "06a0dc7f-2c54-4bf6-bd67-1a92b2cbf4b1",
   "metadata": {},
   "source": [
    "Example\n",
    "="
   ]
  },
  {
   "cell_type": "code",
   "execution_count": 3,
   "id": "621b3076-ad58-42c1-896f-6309f5243a00",
   "metadata": {},
   "outputs": [],
   "source": [
    "l_2 = [[0, 0], [1, 0], [0, 1], [2, 0], [1, 1], [0, 2]]\n",
    "l_3 = [[0, 0, 0], [1, 0, 0], [0, 1, 0], [0, 0, 1], [2, 0, 0], [1, 1, 0], [1, 0, 1], [0, 2, 0], [0, 1, 1], [0, 0, 2]]"
   ]
  },
  {
   "cell_type": "code",
   "execution_count": 4,
   "id": "0e1a5b25-6ac2-424b-bb31-52ca5d15c54c",
   "metadata": {},
   "outputs": [
    {
     "name": "stdout",
     "output_type": "stream",
     "text": [
      "6\n"
     ]
    }
   ],
   "source": [
    "print(comb(2+2))"
   ]
  },
  {
   "cell_type": "code",
   "execution_count": 5,
   "id": "2e48dc1c-f4cc-4392-9098-b823caf213b3",
   "metadata": {},
   "outputs": [
    {
     "name": "stdout",
     "output_type": "stream",
     "text": [
      "[[ 1.  1.  2.  3.  1.  2.  3.  4.  6.  9.]\n",
      " [ 1.  4.  5.  6. 16. 20. 24. 25. 30. 36.]]\n"
     ]
    },
    {
     "data": {
      "text/plain": [
       "array([[ 1.,  1.,  2.,  3.,  1.,  2.,  3.,  4.,  6.,  9.],\n",
       "       [ 1.,  4.,  5.,  6., 16., 20., 24., 25., 30., 36.]])"
      ]
     },
     "execution_count": 5,
     "metadata": {},
     "output_type": "execute_result"
    }
   ],
   "source": [
    "n_feature = 3\n",
    "n_sample = 2\n",
    "\n",
    "arr2 = np.array(l_2)\n",
    "arr3 = np.array(l_3)\n",
    "x_22 = np.arange(1, n_feature * n_sample + 1).reshape(n_sample, -1)\n",
    "\n",
    "output = np.zeros((n_sample, comb(n_feature+2)))\n",
    "\n",
    "print(PolynomialFeatures(degree=2).fit_transform(x_22))\n",
    "def multiply_arrays(X, arr):\n",
    "    n_sample, n_feature = X.shape\n",
    "    output = np.zeros((n_sample, comb(n_feature+2)))\n",
    "    for i in range(comb(n_feature + 2)):\n",
    "        for f in range(n_sample):\n",
    "            x = X[f,:]\n",
    "            w = arr[i,:]\n",
    "            output[f, i] = np.prod(np.power(x,w))\n",
    "    return output\n",
    "multiply_arrays(x_22, arr3)"
   ]
  },
  {
   "cell_type": "code",
   "execution_count": 22,
   "id": "70dc6616-5dad-4e29-af7a-b808fbf0ce6a",
   "metadata": {},
   "outputs": [
    {
     "name": "stdout",
     "output_type": "stream",
     "text": [
      "n = 3, b = 2\n",
      "i = 0, combinations = [], remain_ball = 2, remain_basket = 3\n",
      "i = 0, combinations = [0], remain_ball = 2, remain_basket = 2\n",
      "i = 0, combinations = [0, 0], remain_ball = 2, remain_basket = 1\n",
      "[[0, 0, 0]]\n",
      "\n",
      "i = 1, combinations = [0, 0], remain_ball = 2, remain_basket = 1\n",
      "[[0, 0, 0], [1, 0, 0]]\n",
      "\n",
      "i = 2, combinations = [0, 0], remain_ball = 2, remain_basket = 1\n",
      "[[0, 0, 0], [1, 0, 0], [2, 0, 0]]\n",
      "\n",
      "i = 1, combinations = [0], remain_ball = 2, remain_basket = 2\n",
      "i = 0, combinations = [1, 0], remain_ball = 1, remain_basket = 1\n",
      "[[0, 0, 0], [1, 0, 0], [2, 0, 0], [0, 1, 0]]\n",
      "\n",
      "i = 1, combinations = [1, 0], remain_ball = 1, remain_basket = 1\n",
      "[[0, 0, 0], [1, 0, 0], [2, 0, 0], [0, 1, 0], [1, 1, 0]]\n",
      "\n",
      "i = 2, combinations = [0], remain_ball = 2, remain_basket = 2\n",
      "[[0, 0, 0], [1, 0, 0], [2, 0, 0], [0, 1, 0], [1, 1, 0], [0, 2, 0]]\n",
      "\n",
      "i = 1, combinations = [], remain_ball = 2, remain_basket = 3\n",
      "i = 0, combinations = [1], remain_ball = 1, remain_basket = 2\n",
      "i = 0, combinations = [0, 1], remain_ball = 1, remain_basket = 1\n",
      "[[0, 0, 0], [1, 0, 0], [2, 0, 0], [0, 1, 0], [1, 1, 0], [0, 2, 0], [0, 0, 1]]\n",
      "\n",
      "i = 1, combinations = [0, 1], remain_ball = 1, remain_basket = 1\n",
      "[[0, 0, 0], [1, 0, 0], [2, 0, 0], [0, 1, 0], [1, 1, 0], [0, 2, 0], [0, 0, 1], [1, 0, 1]]\n",
      "\n",
      "i = 1, combinations = [1], remain_ball = 1, remain_basket = 2\n",
      "[[0, 0, 0], [1, 0, 0], [2, 0, 0], [0, 1, 0], [1, 1, 0], [0, 2, 0], [0, 0, 1], [1, 0, 1], [0, 1, 1]]\n",
      "\n",
      "i = 2, combinations = [], remain_ball = 2, remain_basket = 3\n",
      "[[0, 0, 0], [1, 0, 0], [2, 0, 0], [0, 1, 0], [1, 1, 0], [0, 2, 0], [0, 0, 1], [1, 0, 1], [0, 1, 1], [0, 0, 2]]\n",
      "\n"
     ]
    }
   ],
   "source": [
    "def generate_combinations(n, b):\n",
    "    combinations = []\n",
    "\n",
    "    # 定義遞迴函數來生成所有可能的球的配置方式\n",
    "    def generate_helper(current_combination, balls, baskets):\n",
    "        if basket == n:\n",
    "            combinations.append(current_combination) # 裝滿了 跳下一個排列\n",
    "            return\n",
    "        if ball == b:\n",
    "            generate_combinations\n",
    "\n",
    "\n",
    "    # 呼叫遞迴函數來生成所有可能的組合\n",
    "    generate_helper([], b, n)\n",
    "\n",
    "    return combinations\n",
    "\n",
    "\n",
    "# 測試程式碼\n",
    "n = 3\n",
    "b = 2\n",
    "combinations = generate_combinations(n, b)"
   ]
  },
  {
   "cell_type": "code",
   "execution_count": 29,
   "id": "64c7c869-f69b-4f63-8c6c-71d3a215ce42",
   "metadata": {},
   "outputs": [
    {
     "name": "stdout",
     "output_type": "stream",
     "text": [
      "n = 3, b = 2\n",
      "[[0, 0, 0], [1, 0, 0], [2, 0, 0], [0, 1, 0], [1, 1, 0], [0, 2, 0], [0, 0, 1], [1, 0, 1], [0, 1, 1], [0, 0, 2]]\n",
      "answer = \n",
      "[[0, 0, 0], [1, 0, 0], [0, 1, 0], [0, 0, 1], [2, 0, 0], [1, 1, 0], [1, 0, 1], [0, 2, 0], [0, 1, 1], [0, 0, 2]]\n"
     ]
    }
   ],
   "source": [
    "def generate_combinations(n, b):\n",
    "    combinations = []\n",
    "    print(f'n = {n}, b = {b}')\n",
    "\n",
    "    # 定義遞迴函數來生成所有可能的球的配置方式\n",
    "    def generate_helper(current_combination, remaining_balls, remaining_baskets):\n",
    "        if remaining_baskets == 0:\n",
    "            combinations.append(current_combination)\n",
    "            #print(combinations, end = \"\\n\\n\")\n",
    "            return\n",
    "        if remaining_balls == 0:\n",
    "            generate_helper([0] + current_combination, 0, remaining_baskets - 1)\n",
    "            return\n",
    "        for i in range(remaining_balls + 1):\n",
    "            #print(f'i = {i}, combinations = {current_combination}, remain_ball = {remaining_balls}, remain_basket = {remaining_baskets}')\n",
    "            generate_helper([i] + current_combination, remaining_balls - i, remaining_baskets - 1)\n",
    "\n",
    "    # 呼叫遞迴函數來生成所有可能的組合\n",
    "    generate_helper([], b, n)\n",
    "\n",
    "    return combinations\n",
    "\n",
    "\n",
    "# 測試程式碼\n",
    "n = 3\n",
    "b = 2\n",
    "combinations = generate_combinations(n, b)\n",
    "print(combinations)\n",
    "print(f'answer = \\n{l_3}')"
   ]
  },
  {
   "cell_type": "code",
   "execution_count": 25,
   "id": "5650b6df-d55a-4a3b-8c39-c01a54c6e0c5",
   "metadata": {},
   "outputs": [
    {
     "ename": "TypeError",
     "evalue": "'list' object is not callable",
     "output_type": "error",
     "traceback": [
      "\u001b[0;31m---------------------------------------------------------------------------\u001b[0m",
      "\u001b[0;31mTypeError\u001b[0m                                 Traceback (most recent call last)",
      "Cell \u001b[0;32mIn[25], line 1\u001b[0m\n\u001b[0;32m----> 1\u001b[0m \u001b[38;5;28mprint\u001b[39m(\u001b[43mcombinations\u001b[49m\u001b[43m(\u001b[49m\u001b[38;5;241;43m3\u001b[39;49m\u001b[43m,\u001b[49m\u001b[43m \u001b[49m\u001b[38;5;241;43m1\u001b[39;49m\u001b[43m)\u001b[49m)\n",
      "\u001b[0;31mTypeError\u001b[0m: 'list' object is not callable"
     ]
    }
   ],
   "source": [
    "print(combinations(3, 1))"
   ]
  },
  {
   "cell_type": "code",
   "execution_count": null,
   "id": "85f336e6-0ac2-4c05-93fb-075eaac8d2da",
   "metadata": {},
   "outputs": [],
   "source": []
  },
  {
   "cell_type": "code",
   "execution_count": null,
   "id": "585aed13-fe4f-458d-82ef-9f29f21dfb2f",
   "metadata": {},
   "outputs": [],
   "source": []
  }
 ],
 "metadata": {
  "kernelspec": {
   "display_name": "Python 3 (ipykernel)",
   "language": "python",
   "name": "python3"
  },
  "language_info": {
   "codemirror_mode": {
    "name": "ipython",
    "version": 3
   },
   "file_extension": ".py",
   "mimetype": "text/x-python",
   "name": "python",
   "nbconvert_exporter": "python",
   "pygments_lexer": "ipython3",
   "version": "3.8.16"
  }
 },
 "nbformat": 4,
 "nbformat_minor": 5
}
