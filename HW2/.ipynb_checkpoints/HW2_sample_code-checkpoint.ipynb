{
  "nbformat": 4,
  "nbformat_minor": 0,
  "metadata": {
    "colab": {
      "provenance": []
    },
    "kernelspec": {
      "name": "python3",
      "display_name": "Python 3"
    },
    "language_info": {
      "name": "python"
    }
  },
  "cells": [
    {
      "cell_type": "code",
      "execution_count": null,
      "metadata": {
        "id": "BMH5lm_PrhdD"
      },
      "outputs": [],
      "source": [
        "# Only these three packages are allowed\n",
        "import numpy as np\n",
        "import pandas as pd\n",
        "import matplotlib.pyplot as plt"
      ]
    },
    {
      "cell_type": "code",
      "source": [
        "class FLD:\n",
        "    def __init__(self):\n",
        "        \"\"\"\n",
        "            You can add/change any variables/methods to meet your need.\n",
        "        \"\"\"\n",
        "        self.mean_vectors = None\n",
        "        self.sw = None\n",
        "        self.sb = None\n",
        "        self.w = None\n",
        "        self.slope = None\n",
        "\n",
        "    def fit(self, X, y):\n",
        "        pass\n",
        "\n",
        "    def predict_using_class_mean(self, X, y, X_test):\n",
        "        # return y_pred\n",
        "        pass\n",
        "\n",
        "    def predict_using_knn(self, X, y, X_test, k=1):\n",
        "        # return y_pred\n",
        "        pass\n",
        "\n",
        "    def show_confusion_matrix(self, y, y_pred):\n",
        "        pass\n",
        "\n",
        "    def plot_projection(self, X, y):\n",
        "        pass\n",
        "\n",
        "    def accuracy_score(self, y, y_pred):\n",
        "        pass"
      ],
      "metadata": {
        "id": "0FQ7Z945rnF5"
      },
      "execution_count": null,
      "outputs": []
    },
    {
      "cell_type": "code",
      "source": [
        "class MultiClassLogisticRegression:\n",
        "    \n",
        "    def __init__(self):\n",
        "        \"\"\"\n",
        "            You can add/change any variables/methods to meet your need.\n",
        "        \"\"\"\n",
        "        self.epoch = []\n",
        "        self.train_loss = []\n",
        "        self.weights = None\n",
        "\n",
        "    def fit(self, X, y, batch_size=16, lr=0.001, epoch=100):\n",
        "        pass\n",
        "\n",
        "    def predict(self, X):\n",
        "        pass\n",
        "\n",
        "    def evaluate(self, X, y):\n",
        "        pass\n",
        "\n",
        "    def softmax(self, z):\n",
        "        pass\n",
        "\n",
        "    def cross_entropy(self, y, probs):\n",
        "        pass\n",
        "    \n",
        "    def accuracy_score(self, y, y_pred):\n",
        "        pass\n",
        "\n",
        "    def show_confusion_matrix(self, X, y):\n",
        "        pass"
      ],
      "metadata": {
        "id": "fNjwTeUD2UAV"
      },
      "execution_count": null,
      "outputs": []
    },
    {
      "cell_type": "markdown",
      "source": [
        "# Prepare data for Q1 ~ Q12"
      ],
      "metadata": {
        "id": "tW-wMhSw8fT8"
      }
    },
    {
      "cell_type": "code",
      "source": [
        "df_train = pd.DataFrame(pd.read_csv(\"./PR_HW2_blob_train.csv\"))\n",
        "df_test  = pd.DataFrame(pd.read_csv(\"./PR_HW2_blob_test.csv\"))"
      ],
      "metadata": {
        "id": "k43aGfaQ7TsP"
      },
      "execution_count": null,
      "outputs": []
    },
    {
      "cell_type": "code",
      "source": [
        "X_train = df_train[['Feature1', 'Feature2']].to_numpy()\n",
        "y_train = df_train[['Target']].to_numpy().ravel()\n",
        "\n",
        "X_test = df_test[['Feature1', 'Feature2']].to_numpy()\n",
        "y_test = df_test[['Target']].to_numpy().ravel()\n",
        "\n",
        "print(\"X_train\", X_train.shape)\n",
        "print(\"y_train\", y_train.shape)\n",
        "print(\"X_test\",  X_test.shape)\n",
        "print(\"y_test\",  y_test.shape)"
      ],
      "metadata": {
        "id": "2RqHvQCu76Yn"
      },
      "execution_count": null,
      "outputs": []
    },
    {
      "cell_type": "markdown",
      "source": [
        "# MultiClass Logistic Regression"
      ],
      "metadata": {
        "id": "E_HKrHzE8_Sy"
      }
    },
    {
      "cell_type": "code",
      "source": [
        "# For Q1\n",
        "lr = 0.001\n",
        "batch_size = 16\n",
        "epoch = 100\n",
        "\n",
        "logistic_reg = MultiClassLogisticRegression()\n",
        "logistic_reg.fit(X_train, y_train, lr=lr, batch_size=batch_size, epoch=epoch)"
      ],
      "metadata": {
        "id": "xN1uUlEC9FqA"
      },
      "execution_count": null,
      "outputs": []
    },
    {
      "cell_type": "code",
      "source": [
        "# For Q2\n",
        "print('Training acc: ', logistic_reg.evaluate(X_train, y_train))"
      ],
      "metadata": {
        "id": "R_Y8kIlQ9Jcz"
      },
      "execution_count": null,
      "outputs": []
    },
    {
      "cell_type": "code",
      "source": [
        "# For Q3\n",
        "print('Testing acc: ', logistic_reg.evaluate(X_test, y_test))"
      ],
      "metadata": {
        "id": "TzqioRVD9Jgn"
      },
      "execution_count": null,
      "outputs": []
    },
    {
      "cell_type": "code",
      "source": [
        "# For Q4\n",
        "logistic_reg.plot_curve()"
      ],
      "metadata": {
        "id": "B_BSVWmM9JkX"
      },
      "execution_count": null,
      "outputs": []
    },
    {
      "cell_type": "code",
      "source": [
        "# For Q5\n",
        "logistic_reg.show_confusion_matrix(X_test, y_test)"
      ],
      "metadata": {
        "id": "r8tAlAPc9JoP"
      },
      "execution_count": null,
      "outputs": []
    },
    {
      "cell_type": "markdown",
      "source": [
        "# Fisher's Linear Discriminant Analysis"
      ],
      "metadata": {
        "id": "njoLZK84-sv3"
      }
    },
    {
      "cell_type": "code",
      "source": [
        "fld = FLD()\n",
        "\n",
        "fld.fit(X_train, y_train)"
      ],
      "metadata": {
        "id": "i-uhvrbe2mNe"
      },
      "execution_count": null,
      "outputs": []
    },
    {
      "cell_type": "code",
      "source": [
        "# For Q6\n",
        "print(\"Class mean vector: \", fld.mean_vectors)"
      ],
      "metadata": {
        "id": "t95-qsEl2nl_"
      },
      "execution_count": null,
      "outputs": []
    },
    {
      "cell_type": "code",
      "source": [
        "# For Q7\n",
        "print(\"Within-class scatter matrix SW: \", fld.sw)"
      ],
      "metadata": {
        "id": "czRrdHxV2olM"
      },
      "execution_count": null,
      "outputs": []
    },
    {
      "cell_type": "code",
      "source": [
        "# For Q8\n",
        "print(\"Between-class scatter matrix SB: \", fld.sb)"
      ],
      "metadata": {
        "id": "oETHjp4Y2oqg"
      },
      "execution_count": null,
      "outputs": []
    },
    {
      "cell_type": "code",
      "source": [
        "# For Q9\n",
        "print(\"W: \", fld.w)"
      ],
      "metadata": {
        "id": "dRytOEMl2otd"
      },
      "execution_count": null,
      "outputs": []
    },
    {
      "cell_type": "code",
      "source": [
        "# For Q10\n",
        "y_pred = fld.predict_using_class_mean(X_train, y_train, X_test)\n",
        "print(\"FLD using class mean, accuracy: \", fld.accuracy_score(y_test, y_pred))\n",
        "\n",
        "fld.show_confusion_matrix(y_test, y_pred)"
      ],
      "metadata": {
        "id": "Q9XMtITV2owM"
      },
      "execution_count": null,
      "outputs": []
    },
    {
      "cell_type": "code",
      "source": [
        "# For Q11\n",
        "y_pred_k1 = fld.predict_using_knn(X_train, y_train, X_test, k=1)\n",
        "print(\"FLD using knn (k=1), accuracy: \", fld.accuracy_score(y_test, y_pred_k1))\n",
        "\n",
        "y_pred_k2 = fld.predict_using_knn(X_train, y_train, X_test, k=2)\n",
        "print(\"FLD using knn (k=2), accuracy: \", fld.accuracy_score(y_test, y_pred_k2))\n",
        "\n",
        "y_pred_k3 = fld.predict_using_knn(X_train, y_train, X_test, k=3)\n",
        "print(\"FLD using knn (k=3), accuracy: \", fld.accuracy_score(y_test, y_pred_k3))\n",
        "\n",
        "y_pred_k4 = fld.predict_using_knn(X_train, y_train, X_test, k=4)\n",
        "print(\"FLD using knn (k=4), accuracy: \", fld.accuracy_score(y_test, y_pred_k4))\n",
        "\n",
        "y_pred_k5 = fld.predict_using_knn(X_train, y_train, X_test, k=5)\n",
        "print(\"FLD using knn (k=5), accuracy: \", fld.accuracy_score(y_test, y_pred_k5))"
      ],
      "metadata": {
        "id": "7mmAB2BZ2oy5"
      },
      "execution_count": null,
      "outputs": []
    },
    {
      "cell_type": "code",
      "source": [
        "# For Q12, using only training data\n",
        "fld.plot_projection(X_train, y_train)"
      ],
      "metadata": {
        "id": "uAaGRQkg2o1e"
      },
      "execution_count": null,
      "outputs": []
    },
    {
      "cell_type": "markdown",
      "source": [
        "# Train your own model on provided dataset.\n",
        "You can only using 1) **Fisher's Linear Discriminant** or 2) **Logistic Regression** that you have implemented above."
      ],
      "metadata": {
        "id": "PDeFV2_uAoL_"
      }
    },
    {
      "cell_type": "code",
      "source": [
        "df_train = pd.DataFrame(pd.read_csv(\"./PR_HW2_train.csv\"))\n",
        "df_val   = pd.DataFrame(pd.read_csv(\"./PR_HW2_val.csv\"))\n",
        "df_test  = pd.DataFrame(pd.read_csv(\"./PR_HW2_test.csv\"))"
      ],
      "metadata": {
        "id": "0GkkThFyBTN3"
      },
      "execution_count": null,
      "outputs": []
    },
    {
      "cell_type": "code",
      "source": [
        "df_train.head()"
      ],
      "metadata": {
        "id": "6Si9iL-0BWQS"
      },
      "execution_count": null,
      "outputs": []
    },
    {
      "cell_type": "code",
      "source": [
        "df_test.head()"
      ],
      "metadata": {
        "id": "qw1B1bIkBdN4"
      },
      "execution_count": null,
      "outputs": []
    },
    {
      "cell_type": "code",
      "source": [
        "# Data processing\n",
        "\n",
        "# Refer to section \"Prepare data for Q1 ~ Q12\""
      ],
      "metadata": {
        "id": "tDeQjZsuDagp"
      },
      "execution_count": null,
      "outputs": []
    },
    {
      "cell_type": "code",
      "source": [
        "# Train your model here\n",
        "\n",
        "# your_model = ..."
      ],
      "metadata": {
        "id": "p9vEErR9Bf_a"
      },
      "execution_count": null,
      "outputs": []
    },
    {
      "cell_type": "code",
      "source": [
        "test_pred = your_model.predict(x_test)\n",
        "print(\"test_pred shape: \", test_pred.shape)"
      ],
      "metadata": {
        "id": "68NrvUPsBsy8"
      },
      "execution_count": null,
      "outputs": []
    },
    {
      "cell_type": "markdown",
      "source": [
        "# Output the csv file"
      ],
      "metadata": {
        "id": "LBTMFtdlB55p"
      }
    },
    {
      "cell_type": "code",
      "source": [
        "# For Q13\n",
        "df_test = pd.DataFrame(pd.read_csv(\"./PR_HW2_test.csv\"))\n",
        "df_test[\"Target\"] = test_pred\n",
        "df_test.to_csv(\"sample_output.csv\")"
      ],
      "metadata": {
        "id": "C2OL-EI2B3ja"
      },
      "execution_count": null,
      "outputs": []
    }
  ]
}