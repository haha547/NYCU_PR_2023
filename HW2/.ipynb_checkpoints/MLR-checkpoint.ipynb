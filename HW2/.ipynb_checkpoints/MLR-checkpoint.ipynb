{
 "cells": [
  {
   "cell_type": "code",
   "execution_count": 1,
   "id": "2b152394-0322-44ec-a6a8-fa819589989e",
   "metadata": {},
   "outputs": [],
   "source": [
    "import numpy as np\n",
    "import pandas as pd\n",
    "import matplotlib.pyplot as plt\n",
    "\n",
    "class LogisticRegression:\n",
    "    def __init__(self, lr=0.01, num_iter=1000, fit_intercept=True):\n",
    "        self.lr = lr\n",
    "        self.num_iter = num_iter\n",
    "        self.fit_intercept = fit_intercept\n",
    "\n",
    "    def add_intercept(self, X):\n",
    "        intercept = np.ones((X.shape[0], 1))\n",
    "        return np.concatenate((intercept, X), axis=1)\n",
    "\n",
    "    def softmax(self, z):\n",
    "        exp_z = np.exp(z - np.max(z, axis=1, keepdims=True))\n",
    "        return exp_z / np.sum(exp_z, axis=1, keepdims=True)\n",
    "\n",
    "    def cross_entropy_loss(self, y_true, y_pred):\n",
    "        return -np.mean(np.sum(y_true * np.log(y_pred), axis=1))\n",
    "\n",
    "    def fit(self, X, y):\n",
    "        if self.fit_intercept:\n",
    "            X = self.add_intercept(X)\n",
    "\n",
    "        num_classes = y.shape[1]\n",
    "        self.theta = np.zeros((X.shape[1], num_classes))\n",
    "\n",
    "        for i in range(self.num_iter):\n",
    "            z = np.dot(X, self.theta)\n",
    "            y_pred = self.softmax(z)\n",
    "            gradient = np.dot(X.T, y_pred - y) / y.shape[0]\n",
    "            self.theta -= self.lr * gradient\n",
    "\n",
    "    def predict(self, X):\n",
    "        if self.fit_intercept:\n",
    "            X = self.add_intercept(X)\n",
    "\n",
    "        return np.argmax(self.softmax(np.dot(X, self.theta)), axis=1)\n",
    "    \n",
    "    def accuracy(self, y_true, y_pred):\n",
    "        return np.mean(y_true == y_pred)\n",
    "    \n",
    "    def confusion_matrix(self, y_true, y_pred):\n",
    "        num_classes = y_true.shape[1]\n",
    "        confusion_mat = np.zeros((num_classes, num_classes))\n",
    "        \n",
    "        for i in range(num_classes):\n",
    "            for j in range(num_classes):\n",
    "                confusion_mat[i][j] = np.sum((y_true[:,i]==1) & (y_pred[:,j]==1))\n",
    "        \n",
    "        return confusion_mat\n",
    "    \n",
    "    def plot_confusion_matrix(self, y_true, y_pred, classes):\n",
    "        confusion_mat = self.confusion_matrix(y_true, y_pred)\n",
    "        num_classes = len(classes)\n",
    "        fig, ax = plt.subplots()\n",
    "        im = ax.imshow(confusion_mat)\n",
    "\n",
    "        # We want to show all ticks...\n",
    "        ax.set_xticks(np.arange(num_classes))\n",
    "        ax.set_yticks(np.arange(num_classes))\n",
    "        # ... and label them with the respective list entries\n",
    "        ax.set_xticklabels(classes)\n",
    "        ax.set_yticklabels(classes)\n",
    "\n",
    "        # Rotate the tick labels and set their alignment.\n",
    "        plt.setp(ax.get_xticklabels(), rotation=45, ha=\"right\",\n",
    "                 rotation_mode=\"anchor\")\n",
    "\n",
    "        # Loop over data dimensions and create text annotations.\n",
    "        for i in range(num_classes):\n",
    "            for j in range(num_classes):\n",
    "                text = ax.text(j, i, int(confusion_mat[i, j]),\n",
    "                               ha=\"center\", va=\"center\", color=\"w\")\n",
    "\n",
    "        ax.set_title(\"Confusion matrix\")\n",
    "        fig.tight_layout()\n",
    "        plt.show()\n"
   ]
  },
  {
   "cell_type": "markdown",
   "id": "970928d3-7b61-4bf0-ad1a-2b0cf13e4240",
   "metadata": {},
   "source": [
    "+ load data"
   ]
  },
  {
   "cell_type": "code",
   "execution_count": 2,
   "id": "0bd42aaf-5a34-4fd5-89ac-d282d6f29a48",
   "metadata": {},
   "outputs": [],
   "source": [
    "df_train = pd.DataFrame(pd.read_csv(\"./PR_HW2_blob_train.csv\"))\n",
    "df_test  = pd.DataFrame(pd.read_csv(\"./PR_HW2_blob_test.csv\"))\n",
    "\n",
    "X_train = df_train[['Feature1', 'Feature2']].to_numpy()\n",
    "y_train = df_train[['Target']].to_numpy().ravel()\n",
    "\n",
    "X_test = df_train[['Feature1', 'Feature2']].to_numpy()\n",
    "y_test = df_train[['Target']].to_numpy().ravel()\n",
    "\n",
    "y_train_onehot = np.eye(3)[y_train]\n",
    "y_test_onehot = np.eye(3)[y_test]"
   ]
  },
  {
   "cell_type": "code",
   "execution_count": 3,
   "id": "e769e379-7fed-40e1-9b73-bdeb25833157",
   "metadata": {},
   "outputs": [
    {
     "name": "stdout",
     "output_type": "stream",
     "text": [
      "Train Accuracy: 0.898\n",
      "Train Confusion matrix:\n",
      "[[281.   0.  53.]\n",
      " [  0. 333.   0.]\n",
      " [ 49.   0. 284.]]\n"
     ]
    },
    {
     "data": {
      "image/png": "[encoded data removed]",
      "text/plain": [
       "<Figure size 640x480 with 1 Axes>"
      ]
     },
     "metadata": {},
     "output_type": "display_data"
    }
   ],
   "source": [
    "lr = LogisticRegression(lr=0.1, num_iter=1000, fit_intercept=True)\n",
    "lr.fit(X_train, y_train_onehot)\n",
    "y_pred = lr.predict(X_train)\n",
    "y_pred_onehot = np.eye(3)[y_pred]\n",
    "accuracy = lr.accuracy(y_train, y_pred)\n",
    "confusion_mat = lr.confusion_matrix(y_train_onehot, y_pred_onehot)\n",
    "print(f\"Train Accuracy: {accuracy}\")\n",
    "print(f\"Train Confusion matrix:\\n{confusion_mat}\")\n",
    "classes = [\"Class 0\", \"Class 1\", \"Class 2\"]\n",
    "lr.plot_confusion_matrix(y_train_onehot, y_pred_onehot, classes)"
   ]
  },
  {
   "cell_type": "code",
   "execution_count": 8,
   "id": "af838011-ea7f-4bd7-8bd3-05d57ce43af8",
   "metadata": {},
   "outputs": [
    {
     "name": "stdout",
     "output_type": "stream",
     "text": [
      "Test Accuracy: 0.898\n",
      "Test Confusion matrix:\n",
      "[[281.   0.  53.]\n",
      " [  0. 333.   0.]\n",
      " [ 49.   0. 284.]]\n"
     ]
    },
    {
     "data": {
      "image/png": "[encoded data removed]",
      "text/plain": [
       "<Figure size 640x480 with 1 Axes>"
      ]
     },
     "metadata": {},
     "output_type": "display_data"
    }
   ],
   "source": [
    "y_pred = lr.predict(X_test)\n",
    "y_pred_onehot = np.eye(3)[y_pred]\n",
    "accuracy = lr.accuracy(y_test, y_pred)\n",
    "confusion_mat = lr.confusion_matrix(y_test_onehot, y_pred_onehot)\n",
    "print(f\"Test Accuracy: {accuracy}\")\n",
    "print(f\"Test Confusion matrix:\\n{confusion_mat}\")\n",
    "classes = [\"Class 0\", \"Class 1\", \"Class 2\"]\n",
    "lr.plot_confusion_matrix(y_test_onehot, y_pred_onehot, classes)"
   ]
  },
  {
   "cell_type": "code",
   "execution_count": null,
   "id": "81b894df-b31f-47bf-acc4-c3aca5a9e275",
   "metadata": {},
   "outputs": [],
   "source": []
  },
  {
   "cell_type": "code",
   "execution_count": null,
   "id": "84a4f14f-4bc1-4df1-ab3e-937c40765518",
   "metadata": {},
   "outputs": [],
   "source": []
  }
 ],
 "metadata": {
  "kernelspec": {
   "display_name": "Python 3 (ipykernel)",
   "language": "python",
   "name": "python3"
  },
  "language_info": {
   "codemirror_mode": {
    "name": "ipython",
    "version": 3
   },
   "file_extension": ".py",
   "mimetype": "text/x-python",
   "name": "python",
   "nbconvert_exporter": "python",
   "pygments_lexer": "ipython3",
   "version": "3.8.16"
  }
 },
 "nbformat": 4,
 "nbformat_minor": 5
}
