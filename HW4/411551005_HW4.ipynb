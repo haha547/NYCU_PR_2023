{
 "cells": [
  {
   "cell_type": "code",
   "execution_count": 1,
   "source": [
    "import numpy as np\r\n",
    "import pandas as pd\r\n",
    "import matplotlib.pyplot as plt\r\n",
    "from sklearn.svm import SVC, SVR\r\n",
    "from sklearn.metrics import accuracy_score"
   ],
   "outputs": [],
   "metadata": {
    "id": "Z0yGksgOp91i"
   }
  },
  {
   "cell_type": "code",
   "execution_count": 2,
   "source": [
    "# Load data\r\n",
    "x_train = np.load(\"x_train.npy\")\r\n",
    "y_train = np.load(\"y_train.npy\")\r\n",
    "x_test = np.load(\"x_test.npy\")\r\n",
    "y_test = np.load(\"y_test.npy\")"
   ],
   "outputs": [],
   "metadata": {
    "id": "7ZYQFbA0qMZ-"
   }
  },
  {
   "cell_type": "code",
   "execution_count": 3,
   "source": [
    "# 7000 data with 300 features\r\n",
    "print(x_train.shape)\r\n",
    "print(y_train.shape)\r\n",
    "print(x_test.shape)\r\n",
    "print(y_test.shape)"
   ],
   "outputs": [
    {
     "output_type": "stream",
     "name": "stdout",
     "text": [
      "(7000, 300)\n",
      "(7000,)\n",
      "(3000, 300)\n",
      "(3000,)\n"
     ]
    }
   ],
   "metadata": {
    "colab": {
     "base_uri": "https://localhost:8080/"
    },
    "id": "u0ewnfh6qOoM",
    "outputId": "d3773b37-9eb0-4497-ac22-b4b929d0ced6"
   }
  },
  {
   "cell_type": "code",
   "execution_count": 4,
   "source": [
    "# It's a binary classification problem \r\n",
    "print(np.unique(y_train))"
   ],
   "outputs": [
    {
     "output_type": "stream",
     "name": "stdout",
     "text": [
      "[0 1]\n"
     ]
    }
   ],
   "metadata": {
    "colab": {
     "base_uri": "https://localhost:8080/"
    },
    "id": "ryZdU0fdqTkb",
    "outputId": "6b8fa0b1-b488-4c3d-b120-b5e0a1db26d9"
   }
  },
  {
   "cell_type": "markdown",
   "source": [
    "# Q1"
   ],
   "metadata": {
    "id": "qy1aMJ7sqwwg"
   },
   "attachments": {}
  },
  {
   "cell_type": "code",
   "execution_count": 5,
   "source": [
    "def cross_validation(X_train, shuffle=True, k=5, random_state=35):\r\n",
    "    n_samples = X_train.shape[0]\r\n",
    "    indices = np.arange(n_samples)\r\n",
    "    if shuffle:\r\n",
    "        rstate = np.random.RandomState(random_state)\r\n",
    "        rstate.shuffle(indices)\r\n",
    "    n_splits = k\r\n",
    "    fold_sizes = np.full(n_splits, n_samples // n_splits, dtype=int)\r\n",
    "    fold_sizes[: n_samples % n_splits] += 1\r\n",
    "    KFold = []\r\n",
    "    current = 0\r\n",
    "    for fold_size in fold_sizes:\r\n",
    "        start, stop = current, current + fold_size\r\n",
    "        \r\n",
    "        # get_test_mask function content merged into cross_validation\r\n",
    "        test_index = indices[start:stop]\r\n",
    "        test_mask = np.zeros(n_samples, dtype=bool)\r\n",
    "        test_mask[test_index] = True\r\n",
    "        \r\n",
    "        train_index = indices[np.logical_not(test_mask)]\r\n",
    "        test_index = indices[test_mask]\r\n",
    "        # error = [x for x in train_index if x in test_index]\r\n",
    "        # print(len(error))\r\n",
    "        KFold.append([train_index, test_index])\r\n",
    "        current = stop\r\n",
    "    return KFold\r\n"
   ],
   "outputs": [],
   "metadata": {
    "id": "TI26_jRbqVX3"
   }
  },
  {
   "cell_type": "code",
   "execution_count": 6,
   "source": [
    "kfold_data = cross_validation(x_train, k=10)\r\n",
    "assert len(kfold_data) == 10 # should contain 10 fold of data\r\n",
    "assert len(kfold_data[0]) == 2 # each element should contain train fold and validation fold\r\n",
    "assert kfold_data[0][1].shape[0] == 700 # The number of data in each validation fold should equal to training data divieded by K"
   ],
   "outputs": [],
   "metadata": {
    "id": "7jTma6saqf3E"
   }
  },
  {
   "cell_type": "markdown",
   "source": [
    "## Q2"
   ],
   "metadata": {
    "id": "Gh-DQiNiq5v0"
   },
   "attachments": {}
  },
  {
   "cell_type": "code",
   "execution_count": 7,
   "source": [
    "def gridsearch(x, y, kfold_data, candidate_C, candidate_gamma):\r\n",
    "    history = []\r\n",
    "    max_acc = 0\r\n",
    "    n_gamma = len(candidate_gamma)\r\n",
    "    candidate = [(c, g) for c in candidate_C for g in candidate_gamma]\r\n",
    "    tmp_acc = []\r\n",
    "\r\n",
    "    for i, (c, g) in enumerate(candidate):\r\n",
    "        avg_acc = 0\r\n",
    "\r\n",
    "        for j, (train, test) in enumerate(kfold_data):\r\n",
    "            clf = SVC(C=c, kernel='rbf', gamma=g)\r\n",
    "            clf.fit(x[train], y[train])\r\n",
    "            y_pred = clf.predict(x[test])\r\n",
    "            acc = accuracy_score(y[test], y_pred)\r\n",
    "            avg_acc += acc\r\n",
    "\r\n",
    "        avg_acc /= len(kfold_data)\r\n",
    "        tmp_acc.append(avg_acc)\r\n",
    "        \r\n",
    "        if avg_acc > max_acc:\r\n",
    "            best_C = c\r\n",
    "            best_gamma = g\r\n",
    "            max_acc = avg_acc\r\n",
    "\r\n",
    "        if (i + 1) % n_gamma == 0:\r\n",
    "            history.append(tmp_acc)\r\n",
    "            tmp_acc = []\r\n",
    "\r\n",
    "    return np.asarray(history), (best_C, best_gamma)\r\n",
    "\r\n",
    "candidate_C = np.logspace(-4, 4, num=9)\r\n",
    "candidate_gamma = np.logspace(-4, 4, num=9)\r\n",
    "history, best_parameters = gridsearch(x_train, y_train, kfold_data, candidate_C, candidate_gamma)\r\n",
    "print(f'Best parameters (C, gamma): {best_parameters}')"
   ],
   "outputs": [
    {
     "output_type": "stream",
     "name": "stdout",
     "text": [
      "Best parameters (C, gamma): (1.0, 0.0001)\n"
     ]
    }
   ],
   "metadata": {}
  },
  {
   "cell_type": "code",
   "execution_count": 8,
   "source": [
    "candidate_C = np.logspace(-4, 4, num= 9)\r\n",
    "candidate_gamma = np.logspace(-4, 4, num= 9)\r\n",
    "print(candidate_C)\r\n",
    "print(candidate_gamma)"
   ],
   "outputs": [
    {
     "output_type": "stream",
     "name": "stdout",
     "text": [
      "[1.e-04 1.e-03 1.e-02 1.e-01 1.e+00 1.e+01 1.e+02 1.e+03 1.e+04]\n",
      "[1.e-04 1.e-03 1.e-02 1.e-01 1.e+00 1.e+01 1.e+02 1.e+03 1.e+04]\n"
     ]
    }
   ],
   "metadata": {}
  },
  {
   "cell_type": "markdown",
   "source": [
    "# Q3"
   ],
   "metadata": {
    "id": "KbPoOy0lrDPJ"
   },
   "attachments": {}
  },
  {
   "cell_type": "code",
   "execution_count": null,
   "source": [],
   "outputs": [],
   "metadata": {}
  },
  {
   "cell_type": "code",
   "execution_count": 9,
   "source": [
    "from matplotlib.colors import LinearSegmentedColormap\r\n",
    "cmap = LinearSegmentedColormap.from_list(\"custom\", [\"red\", \"white\", \"blue\"])\r\n",
    "\r\n",
    "plt.imshow(history, cmap= cmap)\r\n",
    "plt.colorbar()\r\n",
    "\r\n",
    "for i in range(history.shape[0]):\r\n",
    "    for j in range(history.shape[1]):\r\n",
    "        plt.text(j, i, f\"{history[i, j]:.2f}\", ha=\"center\", va=\"center\", color=\"black\" if history[i, j] < 0.8 else \"white\")\r\n",
    "plt.ylabel(\"C\")\r\n",
    "plt.xlabel(\"Gamma\")\r\n",
    "plt.yticks(np.arange(9), candidate_C, rotation = 45)\r\n",
    "plt.xticks(np.arange(9), candidate_gamma, rotation = 45)\r\n",
    "plt.show()"
   ],
   "outputs": [
    {
     "output_type": "display_data",
     "data": {
      "text/plain": [
       "<Figure size 640x480 with 2 Axes>"
      ],
      "image/png": "[encoded data removed]"
     },
     "metadata": {}
    }
   ],
   "metadata": {
    "id": "ibuxQOEQrEgJ"
   }
  },
  {
   "cell_type": "markdown",
   "source": [
    "## Q4"
   ],
   "metadata": {
    "id": "QVA-It-4rM9Q"
   },
   "attachments": {}
  },
  {
   "cell_type": "code",
   "execution_count": 10,
   "source": [
    "# Do Not Modify Below\r\n",
    "\r\n",
    "best_model = SVC(C=best_parameters[0], gamma=best_parameters[1], kernel='rbf')\r\n",
    "best_model.fit(x_train, y_train)\r\n",
    "\r\n",
    "y_pred = best_model.predict(x_test)\r\n",
    "\r\n",
    "print(\"Accuracy score: \", accuracy_score(y_pred, y_test))\r\n",
    "\r\n",
    "# If your accuracy here > 0.9 then you will get full credit (20 points)."
   ],
   "outputs": [
    {
     "output_type": "stream",
     "name": "stdout",
     "text": [
      "Accuracy score:  0.995\n"
     ]
    }
   ],
   "metadata": {
    "id": "Zl963HdLrMKg"
   }
  }
 ],
 "metadata": {
  "colab": {
   "provenance": []
  },
  "interpreter": {
   "hash": "984e2a8e1514507501a1fea343f2e475d4f6228165e0f6aee8ffcc8d07759179"
  },
  "kernelspec": {
   "name": "python3",
   "display_name": "Python 3.8.16 64-bit ('PR': conda)"
  },
  "language_info": {
   "codemirror_mode": {
    "name": "ipython",
    "version": 3
   },
   "file_extension": ".py",
   "mimetype": "text/x-python",
   "name": "python",
   "nbconvert_exporter": "python",
   "pygments_lexer": "ipython3",
   "version": "3.8.16"
  }
 },
 "nbformat": 4,
 "nbformat_minor": 4
}