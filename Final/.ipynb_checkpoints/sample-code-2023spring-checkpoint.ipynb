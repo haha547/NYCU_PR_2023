{
 "cells": [
  {
   "cell_type": "code",
   "execution_count": 1,
   "id": "23b30a47",
   "metadata": {
    "papermill": {
     "duration": 3.101989,
     "end_time": "2023-05-02T13:35:43.641403",
     "exception": false,
     "start_time": "2023-05-02T13:35:40.539414",
     "status": "completed"
    },
    "tags": []
   },
   "outputs": [],
   "source": [
    "import csv\n",
    "import cv2\n",
    "import numpy as np\n",
    "import random\n",
    "import os\n",
    "\n",
    "from tqdm import tqdm\n",
    "\n",
    "import torch\n",
    "import torch.nn as nn\n",
    "from torch.utils.data import Dataset, DataLoader\n",
    "import torchvision.transforms as trns\n",
    "\n",
    "from torchsummary import summary\n",
    "from PIL import Image"
   ]
  },
  {
   "cell_type": "code",
   "execution_count": 2,
   "id": "d838baf6",
   "metadata": {
    "papermill": {
     "duration": 0.014636,
     "end_time": "2023-05-02T13:35:43.660015",
     "exception": false,
     "start_time": "2023-05-02T13:35:43.645379",
     "status": "completed"
    },
    "tags": []
   },
   "outputs": [
    {
     "name": "stdout",
     "output_type": "stream",
     "text": [
      "cuda\n"
     ]
    }
   ],
   "source": [
    "TRAIN_PATH = \"train\"\n",
    "TEST_PATH = \"test\"\n",
    "device = torch.device(\"cuda\" if torch.cuda.is_available() else \"cpu\")\n",
    "print(device)\n",
    "# try device = \"cuda\" \n",
    "# and change your settings/accelerator to GPU if you want it to run faster if your using kaggle's enviroment"
   ]
  },
  {
   "cell_type": "code",
   "execution_count": 3,
   "id": "7a9d1fdd",
   "metadata": {
    "papermill": {
     "duration": 0.015331,
     "end_time": "2023-05-02T13:35:43.679636",
     "exception": false,
     "start_time": "2023-05-02T13:35:43.664305",
     "status": "completed"
    },
    "tags": []
   },
   "outputs": [],
   "source": [
    "alphabets = \"abcdefghijklmnopqrstuvwxyzABCDEFGHIJKLMNOPQRSTUVWXYZ0123456789\"\n",
    "alphabets2index = {alphabet:i for i, alphabet in enumerate(alphabets)}\n"
   ]
  },
  {
   "cell_type": "code",
   "execution_count": 4,
   "id": "2324fbeb",
   "metadata": {
    "papermill": {
     "duration": 0.017827,
     "end_time": "2023-05-02T13:35:43.701316",
     "exception": false,
     "start_time": "2023-05-02T13:35:43.683489",
     "status": "completed"
    },
    "tags": []
   },
   "outputs": [],
   "source": [
    "class Task1Dataset(Dataset):\n",
    "    def __init__(self, data, root, return_filename=False):\n",
    "        self.data = [sample for sample in data if sample[0].startswith(\"task1\")]\n",
    "        self.return_filename = return_filename\n",
    "        self.root = root\n",
    "    \n",
    "    def __getitem__(self, index):\n",
    "        filename, label = self.data[index]\n",
    "        img = cv2.imread(f\"{self.root}/{filename}\")\n",
    "        img = cv2.resize(img, (32, 32))\n",
    "        img = np.mean(img, axis=2)\n",
    "        if self.return_filename:\n",
    "            return torch.FloatTensor((img - 128) / 128), filename\n",
    "        else:\n",
    "            return torch.FloatTensor((img - 128) / 128), alphabets2index[label]\n",
    "\n",
    "    def __len__(self):\n",
    "        return len(self.data)\n"
   ]
  },
  {
   "cell_type": "code",
   "execution_count": 5,
   "id": "f61b7fec",
   "metadata": {
    "papermill": {
     "duration": 0.016827,
     "end_time": "2023-05-02T13:35:43.722026",
     "exception": false,
     "start_time": "2023-05-02T13:35:43.705199",
     "status": "completed"
    },
    "tags": []
   },
   "outputs": [],
   "source": [
    "class Model(nn.Module):\n",
    "    def __init__(self):\n",
    "        super().__init__()\n",
    "        self.layers = nn.Sequential(\n",
    "            nn.Linear(1024, 512),\n",
    "            nn.LeakyReLU(),\n",
    "            nn.Linear(512, len(alphabets))\n",
    "        )\n",
    "        \n",
    "        \n",
    "    def forward(self, x):\n",
    "        print(x.shape)\n",
    "        batch_size, h, w = x.shape\n",
    "        x = x.view(batch_size, h*w)\n",
    "        return self.layers(x)"
   ]
  },
  {
   "cell_type": "code",
   "execution_count": 6,
   "id": "4417e8b7",
   "metadata": {
    "papermill": {
     "duration": 0.034602,
     "end_time": "2023-05-02T13:35:43.760542",
     "exception": false,
     "start_time": "2023-05-02T13:35:43.725940",
     "status": "completed"
    },
    "tags": []
   },
   "outputs": [],
   "source": [
    "train_data = []\n",
    "val_data = []\n",
    "filename = os.path.join(TRAIN_PATH, \"annotations.csv\")\n",
    "with open(filename, newline='') as csvfile:\n",
    "    for row in csv.reader(csvfile, delimiter=','):\n",
    "        if random.random() < 0.8:\n",
    "            train_data.append(row)\n",
    "        else:\n",
    "            val_data.append(row)\n",
    "\n",
    "train_ds = Task1Dataset(train_data, root=TRAIN_PATH)\n",
    "train_dl = DataLoader(train_ds, batch_size=100, num_workers=0, drop_last=True, shuffle=True)\n",
    "\n",
    "val_ds = Task1Dataset(val_data, root=TRAIN_PATH)\n",
    "val_dl = DataLoader(val_ds, batch_size=100, num_workers=0, drop_last=False, shuffle=False)"
   ]
  },
  {
   "cell_type": "code",
   "execution_count": 7,
   "id": "49c74a81",
   "metadata": {
    "papermill": {
     "duration": 60.043917,
     "end_time": "2023-05-02T13:36:43.808305",
     "exception": false,
     "start_time": "2023-05-02T13:35:43.764388",
     "status": "completed"
    },
    "tags": []
   },
   "outputs": [
    {
     "name": "stdout",
     "output_type": "stream",
     "text": [
      "torch.Size([2, 2, 100, 32, 32])\n"
     ]
    },
    {
     "ename": "ValueError",
     "evalue": "too many values to unpack (expected 4)",
     "output_type": "error",
     "traceback": [
      "\u001b[1;31m---------------------------------------------------------------------------\u001b[0m",
      "\u001b[1;31mValueError\u001b[0m                                Traceback (most recent call last)",
      "Cell \u001b[1;32mIn[7], line 4\u001b[0m\n\u001b[0;32m      2\u001b[0m optimizer \u001b[38;5;241m=\u001b[39m torch\u001b[38;5;241m.\u001b[39moptim\u001b[38;5;241m.\u001b[39mAdam(model\u001b[38;5;241m.\u001b[39mparameters(), lr\u001b[38;5;241m=\u001b[39m\u001b[38;5;241m1e-3\u001b[39m)\n\u001b[0;32m      3\u001b[0m loss_fn \u001b[38;5;241m=\u001b[39m nn\u001b[38;5;241m.\u001b[39mCrossEntropyLoss()\n\u001b[1;32m----> 4\u001b[0m \u001b[43msummary\u001b[49m\u001b[43m(\u001b[49m\u001b[43mmodel\u001b[49m\u001b[43m,\u001b[49m\u001b[43m \u001b[49m\u001b[43minput_size\u001b[49m\u001b[38;5;241;43m=\u001b[39;49m\u001b[43m(\u001b[49m\u001b[38;5;241;43m2\u001b[39;49m\u001b[43m,\u001b[49m\u001b[43m \u001b[49m\u001b[38;5;241;43m100\u001b[39;49m\u001b[43m,\u001b[49m\u001b[43m \u001b[49m\u001b[38;5;241;43m32\u001b[39;49m\u001b[43m,\u001b[49m\u001b[43m \u001b[49m\u001b[38;5;241;43m32\u001b[39;49m\u001b[43m)\u001b[49m\u001b[43m)\u001b[49m\n\u001b[0;32m      6\u001b[0m \u001b[38;5;28;01mfor\u001b[39;00m epoch \u001b[38;5;129;01min\u001b[39;00m \u001b[38;5;28mrange\u001b[39m(\u001b[38;5;241m50\u001b[39m):\n\u001b[0;32m      7\u001b[0m     \u001b[38;5;28mprint\u001b[39m(\u001b[38;5;124mf\u001b[39m\u001b[38;5;124m\"\u001b[39m\u001b[38;5;124mEpoch [\u001b[39m\u001b[38;5;132;01m{\u001b[39;00mepoch\u001b[38;5;132;01m}\u001b[39;00m\u001b[38;5;124m]\u001b[39m\u001b[38;5;124m\"\u001b[39m)\n",
      "File \u001b[1;32m~\\anaconda3\\envs\\Hypyp\\lib\\site-packages\\torchsummary\\torchsummary.py:72\u001b[0m, in \u001b[0;36msummary\u001b[1;34m(model, input_size, batch_size, device)\u001b[0m\n\u001b[0;32m     68\u001b[0m model\u001b[38;5;241m.\u001b[39mapply(register_hook)\n\u001b[0;32m     70\u001b[0m \u001b[38;5;66;03m# make a forward pass\u001b[39;00m\n\u001b[0;32m     71\u001b[0m \u001b[38;5;66;03m# print(x.shape)\u001b[39;00m\n\u001b[1;32m---> 72\u001b[0m \u001b[43mmodel\u001b[49m\u001b[43m(\u001b[49m\u001b[38;5;241;43m*\u001b[39;49m\u001b[43mx\u001b[49m\u001b[43m)\u001b[49m\n\u001b[0;32m     74\u001b[0m \u001b[38;5;66;03m# remove these hooks\u001b[39;00m\n\u001b[0;32m     75\u001b[0m \u001b[38;5;28;01mfor\u001b[39;00m h \u001b[38;5;129;01min\u001b[39;00m hooks:\n",
      "File \u001b[1;32m~\\anaconda3\\envs\\Hypyp\\lib\\site-packages\\torch\\nn\\modules\\module.py:1501\u001b[0m, in \u001b[0;36mModule._call_impl\u001b[1;34m(self, *args, **kwargs)\u001b[0m\n\u001b[0;32m   1496\u001b[0m \u001b[38;5;66;03m# If we don't have any hooks, we want to skip the rest of the logic in\u001b[39;00m\n\u001b[0;32m   1497\u001b[0m \u001b[38;5;66;03m# this function, and just call forward.\u001b[39;00m\n\u001b[0;32m   1498\u001b[0m \u001b[38;5;28;01mif\u001b[39;00m \u001b[38;5;129;01mnot\u001b[39;00m (\u001b[38;5;28mself\u001b[39m\u001b[38;5;241m.\u001b[39m_backward_hooks \u001b[38;5;129;01mor\u001b[39;00m \u001b[38;5;28mself\u001b[39m\u001b[38;5;241m.\u001b[39m_backward_pre_hooks \u001b[38;5;129;01mor\u001b[39;00m \u001b[38;5;28mself\u001b[39m\u001b[38;5;241m.\u001b[39m_forward_hooks \u001b[38;5;129;01mor\u001b[39;00m \u001b[38;5;28mself\u001b[39m\u001b[38;5;241m.\u001b[39m_forward_pre_hooks\n\u001b[0;32m   1499\u001b[0m         \u001b[38;5;129;01mor\u001b[39;00m _global_backward_pre_hooks \u001b[38;5;129;01mor\u001b[39;00m _global_backward_hooks\n\u001b[0;32m   1500\u001b[0m         \u001b[38;5;129;01mor\u001b[39;00m _global_forward_hooks \u001b[38;5;129;01mor\u001b[39;00m _global_forward_pre_hooks):\n\u001b[1;32m-> 1501\u001b[0m     \u001b[38;5;28;01mreturn\u001b[39;00m \u001b[43mforward_call\u001b[49m\u001b[43m(\u001b[49m\u001b[38;5;241;43m*\u001b[39;49m\u001b[43margs\u001b[49m\u001b[43m,\u001b[49m\u001b[43m \u001b[49m\u001b[38;5;241;43m*\u001b[39;49m\u001b[38;5;241;43m*\u001b[39;49m\u001b[43mkwargs\u001b[49m\u001b[43m)\u001b[49m\n\u001b[0;32m   1502\u001b[0m \u001b[38;5;66;03m# Do not call functions when jit is used\u001b[39;00m\n\u001b[0;32m   1503\u001b[0m full_backward_hooks, non_full_backward_hooks \u001b[38;5;241m=\u001b[39m [], []\n",
      "Cell \u001b[1;32mIn[5], line 13\u001b[0m, in \u001b[0;36mModel.forward\u001b[1;34m(self, x)\u001b[0m\n\u001b[0;32m     11\u001b[0m \u001b[38;5;28;01mdef\u001b[39;00m \u001b[38;5;21mforward\u001b[39m(\u001b[38;5;28mself\u001b[39m, x):\n\u001b[0;32m     12\u001b[0m     \u001b[38;5;28mprint\u001b[39m(x\u001b[38;5;241m.\u001b[39mshape)\n\u001b[1;32m---> 13\u001b[0m     _, batch_size, h, w \u001b[38;5;241m=\u001b[39m x\u001b[38;5;241m.\u001b[39mshape\n\u001b[0;32m     14\u001b[0m     x \u001b[38;5;241m=\u001b[39m x\u001b[38;5;241m.\u001b[39mview(batch_size, h\u001b[38;5;241m*\u001b[39mw)\n\u001b[0;32m     15\u001b[0m     \u001b[38;5;28;01mreturn\u001b[39;00m \u001b[38;5;28mself\u001b[39m\u001b[38;5;241m.\u001b[39mlayers(x)\n",
      "\u001b[1;31mValueError\u001b[0m: too many values to unpack (expected 4)"
     ]
    }
   ],
   "source": [
    "model = Model().to(device)\n",
    "optimizer = torch.optim.Adam(model.parameters(), lr=1e-3)\n",
    "loss_fn = nn.CrossEntropyLoss()\n",
    "summary(model, input_size=(2, 100, 32, 32))\n",
    "\n",
    "for epoch in range(50):\n",
    "    print(f\"Epoch [{epoch}]\")\n",
    "    model.train()\n",
    "    for image, label in train_dl:\n",
    "        image = image.to(device)\n",
    "        label = label.to(device)\n",
    "        optimizer.zero_grad()\n",
    "        \n",
    "        pred = model(image)\n",
    "        loss = loss_fn(pred, label)\n",
    "        \n",
    "        loss.backward()\n",
    "        optimizer.step()\n",
    "        \n",
    "    sample_count = 0\n",
    "    correct_count = 0\n",
    "    model.eval()\n",
    "    for image, label in val_dl:\n",
    "        image = image.to(device)\n",
    "        label = label.to(device)\n",
    "        \n",
    "        pred = model(image)\n",
    "        loss = loss_fn(pred, label)\n",
    "        \n",
    "        pred = torch.argmax(pred, dim=1)\n",
    "        \n",
    "        sample_count += len(image)\n",
    "        correct_count += (label == pred).sum()\n",
    "        \n",
    "    print(\"accuracy (validation):\", correct_count / sample_count)\n"
   ]
  },
  {
   "cell_type": "code",
   "execution_count": null,
   "id": "f18f36d3",
   "metadata": {
    "papermill": {
     "duration": 7.586574,
     "end_time": "2023-05-02T13:36:51.401761",
     "exception": false,
     "start_time": "2023-05-02T13:36:43.815187",
     "status": "completed"
    },
    "tags": []
   },
   "outputs": [],
   "source": [
    "test_data = []\n",
    "with open(f'{TEST_PATH}/../sample_submission.csv', newline='') as csvfile:\n",
    "    for row in csv.reader(csvfile, delimiter=','):\n",
    "        test_data.append(row)\n",
    "\n",
    "test_ds = Task1Dataset(test_data, root=TEST_PATH, return_filename=True)\n",
    "test_dl = DataLoader(test_ds, batch_size=500, num_workers=4, drop_last=False, shuffle=False)\n",
    "\n",
    "\n",
    "if os.path.exists('submission.csv'):\n",
    "    csv_writer = csv.writer(open('submission.csv', 'a', newline=''))\n",
    "else:\n",
    "    csv_writer = csv.writer(open('submission.csv', 'w', newline=''))\n",
    "    csv_writer.writerow([\"filename\", \"label\"])\n",
    "\n",
    "\n",
    "model.eval()\n",
    "for image, filenames in test_dl:\n",
    "    image = image.to(device)\n",
    "    \n",
    "    pred = model(image)\n",
    "    pred = torch.argmax(pred, dim=1)\n",
    "    \n",
    "    for i in range(len(filenames)):\n",
    "        csv_writer.writerow([filenames[i], alphabets[pred[i].item()]])\n",
    "\n",
    "for filename, _ in test_data:\n",
    "    if filename.startswith(\"task2\") or filename.startswith(\"task3\"):\n",
    "        csv_writer.writerow([filename, 0])\n"
   ]
  },
  {
   "cell_type": "code",
   "execution_count": null,
   "id": "7d65d0cd-70b3-4db0-9b3a-a0a82a4d1bc5",
   "metadata": {},
   "outputs": [],
   "source": []
  },
  {
   "cell_type": "code",
   "execution_count": null,
   "id": "ba8aac02-f89c-47b0-9766-6ee85e02d116",
   "metadata": {},
   "outputs": [],
   "source": []
  }
 ],
 "metadata": {
  "interpreter": {
   "hash": "6270958d9e85a4873f0ae258f607cd837c663bf20dad8e96a63355fe3f6f130a"
  },
  "kernelspec": {
   "display_name": "Python 3 (ipykernel)",
   "language": "python",
   "name": "python3"
  },
  "language_info": {
   "codemirror_mode": {
    "name": "ipython",
    "version": 3
   },
   "file_extension": ".py",
   "mimetype": "text/x-python",
   "name": "python",
   "nbconvert_exporter": "python",
   "pygments_lexer": "ipython3",
   "version": "3.8.16"
  },
  "papermill": {
   "default_parameters": {},
   "duration": 92.821945,
   "end_time": "2023-05-02T13:36:52.537973",
   "environment_variables": {},
   "exception": null,
   "input_path": "__notebook__.ipynb",
   "output_path": "__notebook__.ipynb",
   "parameters": {},
   "start_time": "2023-05-02T13:35:19.716028",
   "version": "2.4.0"
  }
 },
 "nbformat": 4,
 "nbformat_minor": 5
}
